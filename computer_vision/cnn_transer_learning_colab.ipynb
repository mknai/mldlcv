{
 "cells": [
  {
   "cell_type": "markdown",
   "metadata": {
    "colab_type": "text",
    "id": "PDE2iOXgfBZY"
   },
   "source": [
    "# Importing and loading necessary libraries"
   ]
  },
  {
   "cell_type": "code",
   "execution_count": 308,
   "metadata": {
    "colab": {},
    "colab_type": "code",
    "id": "TDvsPmoce7tc"
   },
   "outputs": [],
   "source": [
    "import numpy as np\n",
    "import cv2\n",
    "import random\n",
    "import os\n",
    "import math\n",
    "\n",
    "from imutils import paths\n",
    "\n",
    "from keras.models import Sequential,Input,Model,load_model\n",
    "from keras.preprocessing.image import ImageDataGenerator,img_to_array\n",
    "from keras.layers import Input,Conv2D,Dense,MaxPool2D,Dropout,Flatten,MaxPooling2D,GlobalAveragePooling2D,BatchNormalization\n",
    "from keras.layers.normalization import BatchNormalization\n",
    "from keras import applications\n",
    "from keras.applications.resnet50 import ResNet50\n",
    "from keras.applications.resnet50 import preprocess_input\n",
    "# from keras.applications.vgg16 import VGG16\n",
    "# from keras.applications.vgg19 import VGG19\n",
    "# from keras.applications.resnet50 import ResNet50\n",
    "# from keras.applications.inception_v3 import InceptionV3\n",
    "from keras.layers.core import Activation\n",
    "from keras.utils import to_categorical\n",
    "from keras.optimizers import Adam, SGD\n",
    "from keras.callbacks import EarlyStopping, TensorBoard, ModelCheckpoint, ReduceLROnPlateau\n",
    "\n",
    "from sklearn.metrics import accuracy_score, f1_score, precision_score, recall_score, classification_report, precision_recall_fscore_support, average_precision_score, confusion_matrix\n",
    "from sklearn.model_selection import train_test_split\n",
    "\n",
    "import warnings \n",
    "warnings.filterwarnings(\"ignore\",category=UserWarning)\n",
    "\n",
    "%matplotlib inline\n",
    "import matplotlib\n",
    "import matplotlib.pyplot as plt"
   ]
  },
  {
   "cell_type": "code",
   "execution_count": null,
   "metadata": {
    "colab": {},
    "colab_type": "code",
    "id": "X5mYXe8VndmK"
   },
   "outputs": [],
   "source": []
  },
  {
   "cell_type": "code",
   "execution_count": null,
   "metadata": {
    "colab": {},
    "colab_type": "code",
    "id": "YIdly867eiOt"
   },
   "outputs": [],
   "source": []
  },
  {
   "cell_type": "code",
   "execution_count": null,
   "metadata": {
    "colab": {},
    "colab_type": "code",
    "id": "rkWGwsEke6yt"
   },
   "outputs": [],
   "source": []
  },
  {
   "cell_type": "markdown",
   "metadata": {
    "colab_type": "text",
    "id": "0bB5Jp7Tmf2u"
   },
   "source": [
    "# Check the compute "
   ]
  },
  {
   "cell_type": "code",
   "execution_count": 247,
   "metadata": {
    "colab": {
     "base_uri": "https://localhost:8080/",
     "height": 35
    },
    "colab_type": "code",
    "id": "MtH3hFmEmjfT",
    "outputId": "c03a95f9-f925-4463-ee31-becde8b5c259"
   },
   "outputs": [
    {
     "data": {
      "text/plain": [
       "''"
      ]
     },
     "execution_count": 247,
     "metadata": {},
     "output_type": "execute_result"
    }
   ],
   "source": [
    "import tensorflow as tf\n",
    "tf.test.gpu_device_name()"
   ]
  },
  {
   "cell_type": "code",
   "execution_count": 248,
   "metadata": {
    "colab": {
     "base_uri": "https://localhost:8080/",
     "height": 484
    },
    "colab_type": "code",
    "id": "LZyRNHU6mmdI",
    "outputId": "0fedb78f-dcc7-4906-ac70-106a0721e495"
   },
   "outputs": [
    {
     "data": {
      "text/plain": [
       "[name: \"/device:CPU:0\"\n",
       " device_type: \"CPU\"\n",
       " memory_limit: 268435456\n",
       " locality {\n",
       " }\n",
       " incarnation: 11548101675370414562]"
      ]
     },
     "execution_count": 248,
     "metadata": {},
     "output_type": "execute_result"
    }
   ],
   "source": [
    "from tensorflow.python.client import device_lib\n",
    "device_lib.list_local_devices()"
   ]
  },
  {
   "cell_type": "markdown",
   "metadata": {
    "colab_type": "text",
    "id": "Z4g2QyesfVTc"
   },
   "source": [
    "# Load the data"
   ]
  },
  {
   "cell_type": "code",
   "execution_count": 249,
   "metadata": {
    "colab": {
     "base_uri": "https://localhost:8080/",
     "height": 124
    },
    "colab_type": "code",
    "id": "cfEIvV_vfg_l",
    "outputId": "2a558231-fbd0-43cd-a98d-a41309921877"
   },
   "outputs": [],
   "source": [
    "# from google.colab import drive\n",
    "# drive.mount('/content/drive')"
   ]
  },
  {
   "cell_type": "code",
   "execution_count": 250,
   "metadata": {
    "colab": {
     "base_uri": "https://localhost:8080/",
     "height": 52
    },
    "colab_type": "code",
    "id": "esshKI4wf1SP",
    "outputId": "dec5f719-6bed-4483-c47a-27800f720b9e"
   },
   "outputs": [],
   "source": [
    "# path = \"/content/drive/My Drive/Colab Notebooks/VIT_FDP_CV/data/food_5k\"\n",
    "# !ls \"/content/drive/My Drive/Colab Notebooks/VIT_FDP_CV/data/food_5k\"\n",
    "# !ls \"/content/drive/My Drive/Colab Notebooks/VIT_FDP_CV/data/food_5k/train\""
   ]
  },
  {
   "cell_type": "code",
   "execution_count": 251,
   "metadata": {
    "colab": {},
    "colab_type": "code",
    "id": "y_pTBHvXlUPr"
   },
   "outputs": [],
   "source": [
    "PATH = \"/Users/noor-4785/Desktop/food_5k/\"\n",
    "# PATH = \"/content/drive/My Drive/Colab Notebooks/VIT_FDP_CV/data/food_5k/\""
   ]
  },
  {
   "cell_type": "markdown",
   "metadata": {
    "colab_type": "text",
    "id": "DOxBWr_Klb5p"
   },
   "source": [
    "# Initialize hyper parameters"
   ]
  },
  {
   "cell_type": "code",
   "execution_count": 71,
   "metadata": {
    "colab": {},
    "colab_type": "code",
    "id": "QVByK-H8lht9"
   },
   "outputs": [],
   "source": [
    "TRAIN_DATA_PATH = PATH + \"train\"\n",
    "TEST_DATA_PATH = PATH + \"test\"\n",
    "VALID_DATA_PATH= PATH + \"valid\"\n",
    "\n",
    "BATCH_SIZE = 32\n",
    "IMAGE_SIZE = 48\n",
    "\n",
    "# CLASS_MODE = 'binary'\n",
    "CLASS_MODE = 'categorical'\n",
    "\n",
    "\n",
    "EPOCHS = 1\n",
    "\n",
    "TARGET_NAMES=['food','notfood']\n",
    "\n",
    "# TIMESTAMP = datetime.now().strftime(\"%d-%m-%Y__%H-%M-%S\")\n",
    "\n"
   ]
  },
  {
   "cell_type": "markdown",
   "metadata": {},
   "source": [
    "# Prepare Data"
   ]
  },
  {
   "cell_type": "code",
   "execution_count": 72,
   "metadata": {
    "colab": {},
    "colab_type": "code",
    "id": "rG0DP8rznJ-P"
   },
   "outputs": [],
   "source": [
    "image_data_generator = ImageDataGenerator(preprocessing_function=preprocess_input)\n",
    "test_image_generator = ImageDataGenerator(preprocessing_function=preprocess_input)\n",
    "\n",
    "# For Data Augumentattion\n",
    "\n",
    "# image_data_generator=keras_image_preprocessor.ImageDataGenerator(\n",
    "#         rescale=1./255,\n",
    "#         rotation_range=10,\n",
    "#         width_shift_range=0.1,\n",
    "#         height_shift_range=0.1,\n",
    "#         shear_range=0.1,\n",
    "#         zoom_range=0.1,\n",
    "#         horizontal_flip=True,\n",
    "#         #validation_split=0.1\n",
    "#     )\n",
    "\n",
    "# test_image_generator=keras_image_preprocessor.ImageDataGenerator(rescale=1./255)"
   ]
  },
  {
   "cell_type": "code",
   "execution_count": null,
   "metadata": {
    "colab": {},
    "colab_type": "code",
    "id": "40RnmOX6nZUS"
   },
   "outputs": [],
   "source": []
  },
  {
   "cell_type": "code",
   "execution_count": 73,
   "metadata": {
    "colab": {
     "base_uri": "https://localhost:8080/",
     "height": 69
    },
    "colab_type": "code",
    "id": "STqvKh9ynh7g",
    "outputId": "57a76e2e-06ee-40c9-bffe-01306ecb19c3"
   },
   "outputs": [
    {
     "name": "stdout",
     "output_type": "stream",
     "text": [
      "Found 3000 images belonging to 2 classes.\n",
      "Found 1000 images belonging to 2 classes.\n",
      "Found 1000 images belonging to 2 classes.\n"
     ]
    }
   ],
   "source": [
    "# Use the above data generator for data augmentation in each of training, validation and test data sets\n",
    "\n",
    "train_gen = image_data_generator.flow_from_directory(\n",
    "    TRAIN_DATA_PATH,\n",
    "    color_mode='rgb',\n",
    "    target_size=(IMAGE_SIZE, IMAGE_SIZE),\n",
    "    batch_size=BATCH_SIZE,\n",
    "    class_mode=CLASS_MODE,\n",
    "    shuffle=True,\n",
    "    #subset=\"training\"\n",
    ")\n",
    "\n",
    "validation_gen = image_data_generator.flow_from_directory(\n",
    "    VALID_DATA_PATH,\n",
    "    color_mode='rgb',\n",
    "    target_size=(IMAGE_SIZE, IMAGE_SIZE),\n",
    "    batch_size=BATCH_SIZE,\n",
    "    class_mode=CLASS_MODE,\n",
    "    shuffle=True,\n",
    "    #subset=\"validation\"\n",
    ")\n",
    "\n",
    "test_gen = test_image_generator.flow_from_directory(\n",
    "    TEST_DATA_PATH,\n",
    "    color_mode='rgb',\n",
    "    target_size=(IMAGE_SIZE, IMAGE_SIZE),\n",
    "    batch_size=BATCH_SIZE,\n",
    "    class_mode=CLASS_MODE,\n",
    "    shuffle=False,\n",
    ")\n",
    "\n",
    "\n",
    "\n"
   ]
  },
  {
   "cell_type": "code",
   "execution_count": 74,
   "metadata": {
    "colab": {
     "base_uri": "https://localhost:8080/",
     "height": 52
    },
    "colab_type": "code",
    "id": "glrd9ZqzorDB",
    "outputId": "d0092051-3e39-4c8a-ea76-f10e2d6ef50e"
   },
   "outputs": [
    {
     "name": "stdout",
     "output_type": "stream",
     "text": [
      "{'food': 0, 'notfood': 1}\n",
      "2\n"
     ]
    }
   ],
   "source": [
    "print(train_gen.class_indices)\n",
    "no_of_classes = len(train_gen.class_indices)\n",
    "print(no_of_classes)\n"
   ]
  },
  {
   "cell_type": "markdown",
   "metadata": {},
   "source": [
    "# Transfer learning"
   ]
  },
  {
   "cell_type": "code",
   "execution_count": 75,
   "metadata": {
    "colab": {},
    "colab_type": "code",
    "id": "BAdYnYmppS0G"
   },
   "outputs": [],
   "source": [
    "base_model=ResNet50(weights='imagenet',include_top=False, input_tensor=Input(shape=(IMAGE_SIZE,IMAGE_SIZE,3)))"
   ]
  },
  {
   "cell_type": "code",
   "execution_count": 76,
   "metadata": {
    "colab": {},
    "colab_type": "code",
    "id": "02UjMI1ODzzm"
   },
   "outputs": [],
   "source": [
    "# base_model.summary()"
   ]
  },
  {
   "cell_type": "code",
   "execution_count": 77,
   "metadata": {
    "colab": {},
    "colab_type": "code",
    "id": "AX9zc0GTCGk3"
   },
   "outputs": [],
   "source": [
    "#Freeze all the layers\n",
    "for layer in base_model.layers:\n",
    "    layer.trainable = False"
   ]
  },
  {
   "cell_type": "code",
   "execution_count": 78,
   "metadata": {
    "colab": {},
    "colab_type": "code",
    "id": "u_5b8xnDCUrM"
   },
   "outputs": [],
   "source": [
    "model= Sequential()\n",
    "model.add(base_model)\n",
    "model.add(Flatten())\n",
    "model.add(Dense(1024,activation='relu'))\n",
    "# model.add(Dropout(0.5))\n",
    "model.add(Dense(512,activation='relu'))\n",
    "model.add(Dense(no_of_classes,activation='softmax'))"
   ]
  },
  {
   "cell_type": "code",
   "execution_count": 79,
   "metadata": {},
   "outputs": [],
   "source": [
    "model.compile(loss='categorical_crossentropy',optimizer=\"Adam\", metrics=['accuracy'])"
   ]
  },
  {
   "cell_type": "code",
   "execution_count": 80,
   "metadata": {
    "colab": {},
    "colab_type": "code",
    "id": "LOKDL5CaF1Jt"
   },
   "outputs": [],
   "source": []
  },
  {
   "cell_type": "code",
   "execution_count": 81,
   "metadata": {
    "colab": {},
    "colab_type": "code",
    "id": "WMhd7sldCjsN"
   },
   "outputs": [],
   "source": [
    "# model.summary()"
   ]
  },
  {
   "cell_type": "code",
   "execution_count": 82,
   "metadata": {},
   "outputs": [],
   "source": [
    "# esc = [EarlyStopping(monitor='val_acc', min_delta=0.001, patience=5, verbose=1, mode='max', restore_best_weights=True)]\n"
   ]
  },
  {
   "cell_type": "code",
   "execution_count": 83,
   "metadata": {
    "colab": {
     "base_uri": "https://localhost:8080/",
     "height": 431
    },
    "colab_type": "code",
    "id": "OoaedG73CxB7",
    "outputId": "40ba8ced-ce42-441a-a99b-fa89f27901cb"
   },
   "outputs": [
    {
     "name": "stdout",
     "output_type": "stream",
     "text": [
      "Epoch 1/2\n",
      "94/94 [==============================] - 97s 1s/step - loss: 1.3780 - acc: 0.8094 - val_loss: 0.4595 - val_acc: 0.8800\n",
      "Epoch 2/2\n",
      "94/94 [==============================] - 87s 931ms/step - loss: 0.2305 - acc: 0.9039 - val_loss: 0.3874 - val_acc: 0.8990\n"
     ]
    }
   ],
   "source": [
    "H = model.fit_generator(\n",
    "                    generator=train_gen,\n",
    "                    steps_per_epoch=math.ceil(train_gen.samples/train_gen.batch_size),\n",
    "                    validation_data=validation_gen,\n",
    "                    validation_steps=math.ceil(validation_gen.samples/validation_gen.batch_size),\n",
    "                    epochs=2,\n",
    "                    # callbacks=esc\n",
    "                )\n"
   ]
  },
  {
   "cell_type": "code",
   "execution_count": 84,
   "metadata": {
    "colab": {},
    "colab_type": "code",
    "id": "DHrTyS8ACzB2"
   },
   "outputs": [],
   "source": [
    "# Plot training & validation accuracy values\n",
    "plt.plot(H.history['acc'])\n",
    "plt.plot(H.history['val_acc'])\n",
    "plt.title('Model accuracy')\n",
    "plt.ylabel('Accuracy')\n",
    "plt.xlabel('Epoch')\n",
    "plt.legend(['Train', 'valid'], loc='upper left')\n",
    "plt.show()"
   ]
  },
  {
   "cell_type": "code",
   "execution_count": null,
   "metadata": {
    "colab": {
     "base_uri": "https://localhost:8080/",
     "height": 235
    },
    "colab_type": "code",
    "id": "ZP2msO-DC2X4",
    "outputId": "ae6fd245-1d86-4891-faa1-64304d8a2ad2"
   },
   "outputs": [],
   "source": [
    "# model.save('Resnet50_transfer_learning.h5')"
   ]
  },
  {
   "cell_type": "markdown",
   "metadata": {},
   "source": [
    "# Fine tuning"
   ]
  },
  {
   "cell_type": "code",
   "execution_count": 85,
   "metadata": {
    "colab": {},
    "colab_type": "code",
    "id": "ryX_yMV4JAwH"
   },
   "outputs": [],
   "source": [
    "# Unfreeze only the last few layers\n",
    "N_LAYERS_TO_FREEZE = 20\n",
    "\n",
    "for layer in model.layers[:20]:\n",
    "    layer.trainable=False\n",
    "for layer in model.layers[20:]:\n",
    "    layer.trainable=True"
   ]
  },
  {
   "cell_type": "code",
   "execution_count": 86,
   "metadata": {
    "colab": {},
    "colab_type": "code",
    "id": "csXNqg-2JA0z"
   },
   "outputs": [],
   "source": [
    "\n",
    "model.compile(optimizer=SGD(lr=0.0001, momentum=0.9),loss='categorical_crossentropy',metrics=['accuracy'])\n"
   ]
  },
  {
   "cell_type": "code",
   "execution_count": 87,
   "metadata": {
    "colab": {},
    "colab_type": "code",
    "id": "DIUeR0ZHJA3a"
   },
   "outputs": [
    {
     "name": "stdout",
     "output_type": "stream",
     "text": [
      "Epoch 1/2\n",
      "94/94 [==============================] - 75s 799ms/step - loss: 0.1219 - acc: 0.9527 - val_loss: 0.3874 - val_acc: 0.8990\n",
      "Epoch 2/2\n",
      "94/94 [==============================] - 76s 811ms/step - loss: 0.1156 - acc: 0.9563 - val_loss: 0.3874 - val_acc: 0.8990\n"
     ]
    }
   ],
   "source": [
    "H_tune = model.fit_generator(\n",
    "                    generator=train_gen,\n",
    "                    steps_per_epoch=math.ceil(train_gen.samples/train_gen.batch_size),\n",
    "                    validation_data=validation_gen,\n",
    "                    validation_steps=math.ceil(validation_gen.samples/validation_gen.batch_size),\n",
    "                    epochs=2,\n",
    "                    # callbacks=esc\n",
    "                )\n"
   ]
  },
  {
   "cell_type": "code",
   "execution_count": null,
   "metadata": {},
   "outputs": [],
   "source": [
    "# Plot training & validation accuracy values\n",
    "plt.plot(H_tune.history['acc'])\n",
    "plt.plot(H_tune.history['val_acc'])\n",
    "plt.title('Model accuracy')\n",
    "plt.ylabel('Accuracy')\n",
    "plt.xlabel('Epoch')\n",
    "plt.legend(['Train', 'valid'], loc='upper left')\n",
    "plt.show()"
   ]
  },
  {
   "cell_type": "code",
   "execution_count": 88,
   "metadata": {
    "colab": {},
    "colab_type": "code",
    "id": "afo_VEBBJAy1"
   },
   "outputs": [],
   "source": [
    "# model.save('Resnet50_finetuned.h5')"
   ]
  },
  {
   "cell_type": "markdown",
   "metadata": {
    "colab": {},
    "colab_type": "code",
    "id": "AsBjUfrtDBNs"
   },
   "source": [
    "# Validation"
   ]
  },
  {
   "cell_type": "code",
   "execution_count": 89,
   "metadata": {},
   "outputs": [
    {
     "name": "stdout",
     "output_type": "stream",
     "text": [
      "loss :  0.441912941634655\n",
      "accuracy :  0.888\n"
     ]
    }
   ],
   "source": [
    "test_score = model.evaluate_generator(generator=test_gen,steps=math.ceil(test_gen.samples/test_gen.batch_size))   \n",
    "print(\"loss : \",test_score[0])   \n",
    "print(\"accuracy : \",test_score[1])\n",
    "test_gen.reset()"
   ]
  },
  {
   "cell_type": "code",
   "execution_count": 90,
   "metadata": {},
   "outputs": [
    {
     "name": "stdout",
     "output_type": "stream",
     "text": [
      "32/32 [==============================] - 27s 837ms/step\n",
      "---------------------- Confusion Matrix ----------------------\n",
      "[[460  40]\n",
      " [ 72 428]]\n",
      "----------------------- Classification Report --------------------\n",
      "              precision    recall  f1-score   support\n",
      "\n",
      "        food       0.86      0.92      0.89       500\n",
      "     notfood       0.91      0.86      0.88       500\n",
      "\n",
      "   micro avg       0.89      0.89      0.89      1000\n",
      "   macro avg       0.89      0.89      0.89      1000\n",
      "weighted avg       0.89      0.89      0.89      1000\n",
      "\n"
     ]
    }
   ],
   "source": [
    "# get the predictions\n",
    "preds = model.predict_generator(generator=test_gen,steps=math.ceil(test_gen.samples/test_gen.batch_size),verbose=1)\n",
    "preds= np.argmax(preds,axis=1)\n",
    "print(\"---------------------- Confusion Matrix ----------------------\")\n",
    "print(confusion_matrix(test_gen.classes,preds))\n",
    "print(\"----------------------- Classification Report --------------------\")\n",
    "print(classification_report(test_gen.classes,preds,target_names=TARGET_NAMES)) \n"
   ]
  },
  {
   "cell_type": "markdown",
   "metadata": {},
   "source": [
    "# Prediction from file path"
   ]
  },
  {
   "cell_type": "code",
   "execution_count": 301,
   "metadata": {},
   "outputs": [],
   "source": [
    "# image_path = \"/Users/noor-4785/Desktop/food_5k/test/food/1_147.jpg\"\n",
    "image_path = \"/Users/noor-4785/Desktop/food_5k/train/notfood/0_400.jpg\""
   ]
  },
  {
   "cell_type": "code",
   "execution_count": 302,
   "metadata": {},
   "outputs": [
    {
     "data": {
      "text/plain": [
       "(1, 48, 48, 3)"
      ]
     },
     "execution_count": 302,
     "metadata": {},
     "output_type": "execute_result"
    }
   ],
   "source": [
    "image = cv2.imread(image_path,cv2.IMREAD_COLOR)\n",
    "image = cv2.cvtColor(image,cv2.COLOR_BGR2RGB)\n",
    "image = cv2.resize(image, (IMAGE_SIZE,IMAGE_SIZE))\n",
    "image = img_to_array(image)\n",
    "image = preprocess_input(image)\n",
    "image = np.expand_dims(image, axis=0)\n",
    "image.shape\n",
    "\n",
    "\n",
    "\n",
    "\n",
    "#     image_bytes = image.file.read()\n",
    "#     img_array = np.fromstring(image_bytes, np.uint8)\n",
    "#     image = cv2.imdecode(img_array, cv2.IMREAD_COLOR)\n",
    "#     image = cv2.resize(image, constants.IMAGE_SIZE)\n",
    "#     image = img_to_array(image)/255\n",
    "#     image = np.expand_dims(image, axis=0)\n",
    "#     return image"
   ]
  },
  {
   "cell_type": "code",
   "execution_count": 303,
   "metadata": {},
   "outputs": [
    {
     "data": {
      "text/plain": [
       "array([0.03174352, 0.9682565 ], dtype=float32)"
      ]
     },
     "execution_count": 303,
     "metadata": {},
     "output_type": "execute_result"
    }
   ],
   "source": [
    "model.predict(image)[0]"
   ]
  },
  {
   "cell_type": "code",
   "execution_count": 304,
   "metadata": {},
   "outputs": [
    {
     "data": {
      "text/plain": [
       "1"
      ]
     },
     "execution_count": 304,
     "metadata": {},
     "output_type": "execute_result"
    }
   ],
   "source": [
    "model.predict_classes(image)[0]"
   ]
  },
  {
   "cell_type": "code",
   "execution_count": 305,
   "metadata": {},
   "outputs": [
    {
     "data": {
      "text/plain": [
       "'notfood'"
      ]
     },
     "execution_count": 305,
     "metadata": {},
     "output_type": "execute_result"
    }
   ],
   "source": [
    "TARGET_NAMES[model.predict_classes(image)[0]]"
   ]
  },
  {
   "cell_type": "markdown",
   "metadata": {},
   "source": [
    "# Prediction from collab"
   ]
  },
  {
   "cell_type": "code",
   "execution_count": null,
   "metadata": {},
   "outputs": [],
   "source": [
    "from google.colab import files\n",
    "uploaded = files.upload()\n",
    "image_bytes = list(uploaded.values())[0]\n",
    "img_array = np.fromstring(image_bytes, np.uint8)\n",
    "image = cv2.imdecode(img_array, cv2.IMREAD_COLOR)\n",
    "image = cv2.resize(image, (IMAGE_SIZE,IMAGE_SIZE))\n",
    "image = img_to_array(image)\n",
    "image = preprocess_input(image)\n",
    "image = np.expand_dims(image, axis=0)\n",
    "print(image.shape)\n",
    "result = model.predict_classes(image)[0]\n",
    "print(\"Model Output\", TARGET_NAMES[result])"
   ]
  },
  {
   "cell_type": "code",
   "execution_count": null,
   "metadata": {},
   "outputs": [],
   "source": []
  },
  {
   "cell_type": "code",
   "execution_count": null,
   "metadata": {},
   "outputs": [],
   "source": []
  }
 ],
 "metadata": {
  "accelerator": "GPU",
  "colab": {
   "collapsed_sections": [],
   "name": "learn_cnn_v1.ipynb",
   "provenance": []
  },
  "kernelspec": {
   "display_name": "Python 3",
   "language": "python",
   "name": "python3"
  },
  "language_info": {
   "codemirror_mode": {
    "name": "ipython",
    "version": 3
   },
   "file_extension": ".py",
   "mimetype": "text/x-python",
   "name": "python",
   "nbconvert_exporter": "python",
   "pygments_lexer": "ipython3",
   "version": "3.6.4"
  },
  "toc": {
   "base_numbering": 1,
   "nav_menu": {},
   "number_sections": true,
   "sideBar": true,
   "skip_h1_title": false,
   "title_cell": "Table of Contents",
   "title_sidebar": "Contents",
   "toc_cell": false,
   "toc_position": {},
   "toc_section_display": true,
   "toc_window_display": false
  },
  "varInspector": {
   "cols": {
    "lenName": 16,
    "lenType": 16,
    "lenVar": 40
   },
   "kernels_config": {
    "python": {
     "delete_cmd_postfix": "",
     "delete_cmd_prefix": "del ",
     "library": "var_list.py",
     "varRefreshCmd": "print(var_dic_list())"
    },
    "r": {
     "delete_cmd_postfix": ") ",
     "delete_cmd_prefix": "rm(",
     "library": "var_list.r",
     "varRefreshCmd": "cat(var_dic_list()) "
    }
   },
   "types_to_exclude": [
    "module",
    "function",
    "builtin_function_or_method",
    "instance",
    "_Feature"
   ],
   "window_display": false
  }
 },
 "nbformat": 4,
 "nbformat_minor": 1
}
