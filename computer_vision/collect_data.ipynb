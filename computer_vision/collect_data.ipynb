{
 "cells": [
  {
   "cell_type": "markdown",
   "metadata": {},
   "source": [
    "# google_images_download"
   ]
  },
  {
   "cell_type": "markdown",
   "metadata": {},
   "source": [
    "https://google-images-download.readthedocs.io/en/latest/index.html"
   ]
  },
  {
   "cell_type": "code",
   "execution_count": 6,
   "metadata": {},
   "outputs": [],
   "source": [
    "# !pip install google_images_download"
   ]
  },
  {
   "cell_type": "code",
   "execution_count": 1,
   "metadata": {},
   "outputs": [],
   "source": [
    "from google_images_download import google_images_download"
   ]
  },
  {
   "cell_type": "code",
   "execution_count": 6,
   "metadata": {},
   "outputs": [],
   "source": [
    "arguments = {\n",
    "    \"keywords\": \"car\", # Enter Keywords here\n",
    "    \"limit\": 1 , # for more than 100 images per category, specify the chrome driver path\n",
    "    # \"chromedriver\": \"Path_to_chromedriver\",\n",
    "    \"print_urls\": True,\n",
    "    \"prefix_keywords\":\"red, green\", # Enter prefix keywords here\n",
    "    \"suffix_keywords\":\"\"  # Enter suffix keywords here\n",
    "}"
   ]
  },
  {
   "cell_type": "code",
   "execution_count": 7,
   "metadata": {},
   "outputs": [],
   "source": [
    "response=google_images_download.googleimagesdownload()"
   ]
  },
  {
   "cell_type": "code",
   "execution_count": 8,
   "metadata": {},
   "outputs": [
    {
     "data": {
      "text/plain": [
       "<google_images_download.google_images_download.googleimagesdownload at 0x1035b7f28>"
      ]
     },
     "execution_count": 8,
     "metadata": {},
     "output_type": "execute_result"
    }
   ],
   "source": [
    "response"
   ]
  },
  {
   "cell_type": "code",
   "execution_count": 9,
   "metadata": {},
   "outputs": [
    {
     "name": "stdout",
     "output_type": "stream",
     "text": [
      "\n",
      "Item no.: 1 --> Item name = red car\n",
      "Evaluating...\n",
      "Starting Download...\n",
      "Image URL: https://i.ytimg.com/vi/lkZQkqyo1Xs/maxresdefault.jpg\n",
      "Completed Image ====> 1. maxresdefault.jpg\n",
      "\n",
      "Errors: 0\n",
      "\n",
      "\n",
      "Item no.: 1 --> Item name =  green car\n",
      "Evaluating...\n",
      "Starting Download...\n",
      "Image URL: https://www.driving.co.uk/s3/st-driving-prod/uploads/2015/08/IMAGE-SIZE-TEMPLATE.png\n",
      "Completed Image ====> 1. image-size-template.png\n",
      "\n",
      "Errors: 0\n",
      "\n"
     ]
    }
   ],
   "source": [
    "paths = response.download(arguments)"
   ]
  },
  {
   "cell_type": "markdown",
   "metadata": {},
   "source": [
    "#  Browser (source : pyimagesearch.com)"
   ]
  },
  {
   "cell_type": "markdown",
   "metadata": {},
   "source": [
    "1. Search for an image in google\n",
    "2. Open Javascript console\n",
    "3. Scroll through as many images as you want\n",
    "4. Run the following in the console"
   ]
  },
  {
   "cell_type": "code",
   "execution_count": 15,
   "metadata": {},
   "outputs": [],
   "source": [
    "# var script = document.createElement('script');\n",
    "# script.src = \"https://ajax.googleapis.com/ajax/libs/jquery/2.2.0/jquery.min.js\";\n",
    "# document.getElementsByTagName('head')[0].appendChild(script);\n",
    "# var urls = $('.rg_di .rg_meta').map(function() { return JSON.parse($(this).text()).ou; });\n",
    "# var textToSave = urls.toArray().join('\\n');\n",
    "# var hiddenElement = document.createElement('a');\n",
    "# hiddenElement.href = 'data:attachment/text,' + encodeURI(textToSave);\n",
    "# hiddenElement.target = '_blank';\n",
    "# hiddenElement.download = 'urls.txt';\n",
    "# hiddenElement.click();"
   ]
  },
  {
   "cell_type": "code",
   "execution_count": 16,
   "metadata": {},
   "outputs": [],
   "source": [
    "# !pip install requests"
   ]
  },
  {
   "cell_type": "code",
   "execution_count": 18,
   "metadata": {},
   "outputs": [],
   "source": [
    "# grab the list of URLs from the input file, then initialize the\n",
    "# total number of images downloaded thus far\n",
    "url_path = \"/Users/noor-4785/Downloads/urls.txt\"\n",
    "out_path = \"/Users/noor-4785/Downloads/temp_v1\"\n",
    "rows = open(url_path).read().strip().split(\"\\n\")\n",
    "total = 0"
   ]
  },
  {
   "cell_type": "code",
   "execution_count": 24,
   "metadata": {
    "scrolled": true
   },
   "outputs": [
    {
     "name": "stdout",
     "output_type": "stream",
     "text": [
      "[INFO] downloaded: /Users/noor-4785/Downloads/temp_v1/00000000.jpg\n",
      "[INFO] downloaded: /Users/noor-4785/Downloads/temp_v1/00000001.jpg\n",
      "[INFO] downloaded: /Users/noor-4785/Downloads/temp_v1/00000002.jpg\n",
      "[INFO] downloaded: /Users/noor-4785/Downloads/temp_v1/00000003.jpg\n",
      "[INFO] downloaded: /Users/noor-4785/Downloads/temp_v1/00000004.jpg\n",
      "[INFO] downloaded: /Users/noor-4785/Downloads/temp_v1/00000005.jpg\n",
      "[INFO] downloaded: /Users/noor-4785/Downloads/temp_v1/00000006.jpg\n",
      "[INFO] downloaded: /Users/noor-4785/Downloads/temp_v1/00000007.jpg\n",
      "[INFO] downloaded: /Users/noor-4785/Downloads/temp_v1/00000008.jpg\n",
      "[INFO] downloaded: /Users/noor-4785/Downloads/temp_v1/00000009.jpg\n",
      "[INFO] downloaded: /Users/noor-4785/Downloads/temp_v1/00000010.jpg\n",
      "[INFO] downloaded: /Users/noor-4785/Downloads/temp_v1/00000011.jpg\n",
      "[INFO] downloaded: /Users/noor-4785/Downloads/temp_v1/00000012.jpg\n",
      "[INFO] downloaded: /Users/noor-4785/Downloads/temp_v1/00000013.jpg\n",
      "[INFO] downloaded: /Users/noor-4785/Downloads/temp_v1/00000014.jpg\n",
      "[INFO] downloaded: /Users/noor-4785/Downloads/temp_v1/00000015.jpg\n",
      "[INFO] downloaded: /Users/noor-4785/Downloads/temp_v1/00000016.jpg\n",
      "[INFO] downloaded: /Users/noor-4785/Downloads/temp_v1/00000017.jpg\n",
      "[INFO] downloaded: /Users/noor-4785/Downloads/temp_v1/00000018.jpg\n",
      "[INFO] downloaded: /Users/noor-4785/Downloads/temp_v1/00000019.jpg\n",
      "[INFO] downloaded: /Users/noor-4785/Downloads/temp_v1/00000020.jpg\n",
      "[INFO] downloaded: /Users/noor-4785/Downloads/temp_v1/00000021.jpg\n",
      "[INFO] downloaded: /Users/noor-4785/Downloads/temp_v1/00000022.jpg\n",
      "[INFO] downloaded: /Users/noor-4785/Downloads/temp_v1/00000023.jpg\n",
      "[INFO] downloaded: /Users/noor-4785/Downloads/temp_v1/00000024.jpg\n",
      "[INFO] downloaded: /Users/noor-4785/Downloads/temp_v1/00000025.jpg\n",
      "[INFO] downloaded: /Users/noor-4785/Downloads/temp_v1/00000026.jpg\n",
      "[INFO] downloaded: /Users/noor-4785/Downloads/temp_v1/00000027.jpg\n",
      "[INFO] downloaded: /Users/noor-4785/Downloads/temp_v1/00000028.jpg\n",
      "[INFO] downloaded: /Users/noor-4785/Downloads/temp_v1/00000029.jpg\n",
      "[INFO] downloaded: /Users/noor-4785/Downloads/temp_v1/00000030.jpg\n",
      "[INFO] downloaded: /Users/noor-4785/Downloads/temp_v1/00000031.jpg\n",
      "[INFO] error downloading /Users/noor-4785/Downloads/temp_v1/00000031.jpg...skipping\n",
      "[INFO] downloaded: /Users/noor-4785/Downloads/temp_v1/00000032.jpg\n",
      "[INFO] downloaded: /Users/noor-4785/Downloads/temp_v1/00000033.jpg\n",
      "[INFO] downloaded: /Users/noor-4785/Downloads/temp_v1/00000034.jpg\n",
      "[INFO] downloaded: /Users/noor-4785/Downloads/temp_v1/00000035.jpg\n",
      "[INFO] downloaded: /Users/noor-4785/Downloads/temp_v1/00000036.jpg\n",
      "[INFO] downloaded: /Users/noor-4785/Downloads/temp_v1/00000037.jpg\n",
      "[INFO] downloaded: /Users/noor-4785/Downloads/temp_v1/00000038.jpg\n",
      "[INFO] downloaded: /Users/noor-4785/Downloads/temp_v1/00000039.jpg\n",
      "[INFO] downloaded: /Users/noor-4785/Downloads/temp_v1/00000040.jpg\n",
      "[INFO] downloaded: /Users/noor-4785/Downloads/temp_v1/00000041.jpg\n",
      "[INFO] downloaded: /Users/noor-4785/Downloads/temp_v1/00000042.jpg\n",
      "[INFO] downloaded: /Users/noor-4785/Downloads/temp_v1/00000043.jpg\n",
      "[INFO] downloaded: /Users/noor-4785/Downloads/temp_v1/00000044.jpg\n",
      "[INFO] downloaded: /Users/noor-4785/Downloads/temp_v1/00000045.jpg\n",
      "[INFO] downloaded: /Users/noor-4785/Downloads/temp_v1/00000046.jpg\n",
      "[INFO] downloaded: /Users/noor-4785/Downloads/temp_v1/00000047.jpg\n",
      "[INFO] downloaded: /Users/noor-4785/Downloads/temp_v1/00000048.jpg\n",
      "[INFO] downloaded: /Users/noor-4785/Downloads/temp_v1/00000049.jpg\n",
      "[INFO] downloaded: /Users/noor-4785/Downloads/temp_v1/00000050.jpg\n",
      "[INFO] error downloading /Users/noor-4785/Downloads/temp_v1/00000050.jpg...skipping\n",
      "[INFO] downloaded: /Users/noor-4785/Downloads/temp_v1/00000051.jpg\n",
      "[INFO] downloaded: /Users/noor-4785/Downloads/temp_v1/00000052.jpg\n",
      "[INFO] downloaded: /Users/noor-4785/Downloads/temp_v1/00000053.jpg\n",
      "[INFO] downloaded: /Users/noor-4785/Downloads/temp_v1/00000054.jpg\n",
      "[INFO] downloaded: /Users/noor-4785/Downloads/temp_v1/00000055.jpg\n",
      "[INFO] downloaded: /Users/noor-4785/Downloads/temp_v1/00000056.jpg\n",
      "[INFO] error downloading /Users/noor-4785/Downloads/temp_v1/00000056.jpg...skipping\n",
      "[INFO] downloaded: /Users/noor-4785/Downloads/temp_v1/00000057.jpg\n",
      "[INFO] downloaded: /Users/noor-4785/Downloads/temp_v1/00000058.jpg\n",
      "[INFO] downloaded: /Users/noor-4785/Downloads/temp_v1/00000059.jpg\n",
      "[INFO] downloaded: /Users/noor-4785/Downloads/temp_v1/00000060.jpg\n",
      "[INFO] downloaded: /Users/noor-4785/Downloads/temp_v1/00000061.jpg\n",
      "[INFO] downloaded: /Users/noor-4785/Downloads/temp_v1/00000062.jpg\n",
      "[INFO] downloaded: /Users/noor-4785/Downloads/temp_v1/00000063.jpg\n",
      "[INFO] downloaded: /Users/noor-4785/Downloads/temp_v1/00000064.jpg\n",
      "[INFO] error downloading /Users/noor-4785/Downloads/temp_v1/00000064.jpg...skipping\n",
      "[INFO] downloaded: /Users/noor-4785/Downloads/temp_v1/00000065.jpg\n",
      "[INFO] downloaded: /Users/noor-4785/Downloads/temp_v1/00000066.jpg\n",
      "[INFO] downloaded: /Users/noor-4785/Downloads/temp_v1/00000067.jpg\n",
      "[INFO] downloaded: /Users/noor-4785/Downloads/temp_v1/00000068.jpg\n",
      "[INFO] downloaded: /Users/noor-4785/Downloads/temp_v1/00000069.jpg\n",
      "[INFO] error downloading /Users/noor-4785/Downloads/temp_v1/00000069.jpg...skipping\n",
      "[INFO] downloaded: /Users/noor-4785/Downloads/temp_v1/00000070.jpg\n",
      "[INFO] downloaded: /Users/noor-4785/Downloads/temp_v1/00000071.jpg\n",
      "[INFO] downloaded: /Users/noor-4785/Downloads/temp_v1/00000072.jpg\n",
      "[INFO] downloaded: /Users/noor-4785/Downloads/temp_v1/00000073.jpg\n",
      "[INFO] downloaded: /Users/noor-4785/Downloads/temp_v1/00000074.jpg\n",
      "[INFO] error downloading /Users/noor-4785/Downloads/temp_v1/00000074.jpg...skipping\n",
      "[INFO] downloaded: /Users/noor-4785/Downloads/temp_v1/00000075.jpg\n",
      "[INFO] downloaded: /Users/noor-4785/Downloads/temp_v1/00000076.jpg\n",
      "[INFO] downloaded: /Users/noor-4785/Downloads/temp_v1/00000077.jpg\n",
      "[INFO] downloaded: /Users/noor-4785/Downloads/temp_v1/00000078.jpg\n",
      "[INFO] downloaded: /Users/noor-4785/Downloads/temp_v1/00000079.jpg\n",
      "[INFO] downloaded: /Users/noor-4785/Downloads/temp_v1/00000080.jpg\n",
      "[INFO] downloaded: /Users/noor-4785/Downloads/temp_v1/00000081.jpg\n",
      "[INFO] downloaded: /Users/noor-4785/Downloads/temp_v1/00000082.jpg\n",
      "[INFO] downloaded: /Users/noor-4785/Downloads/temp_v1/00000083.jpg\n",
      "[INFO] downloaded: /Users/noor-4785/Downloads/temp_v1/00000084.jpg\n",
      "[INFO] downloaded: /Users/noor-4785/Downloads/temp_v1/00000085.jpg\n",
      "[INFO] downloaded: /Users/noor-4785/Downloads/temp_v1/00000086.jpg\n",
      "[INFO] downloaded: /Users/noor-4785/Downloads/temp_v1/00000087.jpg\n",
      "[INFO] downloaded: /Users/noor-4785/Downloads/temp_v1/00000088.jpg\n",
      "[INFO] downloaded: /Users/noor-4785/Downloads/temp_v1/00000089.jpg\n",
      "[INFO] downloaded: /Users/noor-4785/Downloads/temp_v1/00000090.jpg\n",
      "[INFO] downloaded: /Users/noor-4785/Downloads/temp_v1/00000091.jpg\n",
      "[INFO] downloaded: /Users/noor-4785/Downloads/temp_v1/00000092.jpg\n",
      "[INFO] downloaded: /Users/noor-4785/Downloads/temp_v1/00000093.jpg\n"
     ]
    }
   ],
   "source": [
    "import requests\n",
    "import os\n",
    "# loop the URLs\n",
    "for url in rows:\n",
    "    try:\n",
    "        # try to download the image\n",
    "        r = requests.get(url, timeout=60)\n",
    "        p = os.path.sep.join([out_path, \"{}.jpg\".format(str(total).zfill(8))])\n",
    "        f = open(p, \"wb\")\n",
    "        f.write(r.content)\n",
    "        f.close()\n",
    "        \n",
    "        # update the counter\n",
    "        print(\"[INFO] downloaded: {}\".format(p))\n",
    "        total += 1\n",
    "    except:\n",
    "        print(\"[INFO] error downloading {}...skipping\".format(p))\n",
    "        \n"
   ]
  },
  {
   "cell_type": "code",
   "execution_count": null,
   "metadata": {},
   "outputs": [],
   "source": [
    "# loop over the image paths we just downloaded\n",
    "for imagePath in paths.list_images(out_path):\n",
    "    # initialize if the image should be deleted or not\n",
    "    delete = False\n",
    " \n",
    "    # try to load the image\n",
    "    try:\n",
    "        image = cv2.imread(imagePath)\n",
    " \n",
    "        # if the image is `None` then we could not properly load it\n",
    "        # from disk, so delete it\n",
    "        if image is None:\n",
    "            delete = True\n",
    " \n",
    "    # if OpenCV cannot load the image then the image is likely\n",
    "    # corrupt so we should delete it\n",
    "    except:\n",
    "        print(\"Except\")\n",
    "        delete = True\n",
    " \n",
    "    # check to see if the image should be deleted\n",
    "    if delete:\n",
    "        print(\"[INFO] deleting {}\".format(imagePath))\n",
    "        os.remove(imagePath)"
   ]
  }
 ],
 "metadata": {
  "kernelspec": {
   "display_name": "Python 3",
   "language": "python",
   "name": "python3"
  },
  "language_info": {
   "codemirror_mode": {
    "name": "ipython",
    "version": 3
   },
   "file_extension": ".py",
   "mimetype": "text/x-python",
   "name": "python",
   "nbconvert_exporter": "python",
   "pygments_lexer": "ipython3",
   "version": "3.6.4"
  },
  "toc": {
   "base_numbering": 1,
   "nav_menu": {},
   "number_sections": true,
   "sideBar": true,
   "skip_h1_title": false,
   "title_cell": "Table of Contents",
   "title_sidebar": "Contents",
   "toc_cell": false,
   "toc_position": {},
   "toc_section_display": true,
   "toc_window_display": false
  },
  "varInspector": {
   "cols": {
    "lenName": 16,
    "lenType": 16,
    "lenVar": 40
   },
   "kernels_config": {
    "python": {
     "delete_cmd_postfix": "",
     "delete_cmd_prefix": "del ",
     "library": "var_list.py",
     "varRefreshCmd": "print(var_dic_list())"
    },
    "r": {
     "delete_cmd_postfix": ") ",
     "delete_cmd_prefix": "rm(",
     "library": "var_list.r",
     "varRefreshCmd": "cat(var_dic_list()) "
    }
   },
   "types_to_exclude": [
    "module",
    "function",
    "builtin_function_or_method",
    "instance",
    "_Feature"
   ],
   "window_display": false
  }
 },
 "nbformat": 4,
 "nbformat_minor": 2
}
