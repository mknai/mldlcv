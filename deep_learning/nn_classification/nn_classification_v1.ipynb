{
 "cells": [
  {
   "cell_type": "markdown",
   "metadata": {},
   "source": [
    "# Import necessary libraries"
   ]
  },
  {
   "cell_type": "code",
   "execution_count": 6,
   "metadata": {},
   "outputs": [],
   "source": [
    "# !pip install keras tensorflow"
   ]
  },
  {
   "cell_type": "code",
   "execution_count": 17,
   "metadata": {},
   "outputs": [],
   "source": [
    "from keras.models import Sequential\n",
    "from keras.layers import Dense\n",
    "from keras.utils import to_categorical\n",
    "import numpy\n",
    "import pandas as pd\n",
    "from sklearn.model_selection import train_test_split\n",
    "\n",
    "# fix random seed for reproducibility\n",
    "numpy.random.seed(7)\n",
    "\n",
    "%matplotlib inline\n",
    "import matplotlib\n",
    "import matplotlib.pyplot as plt"
   ]
  },
  {
   "cell_type": "markdown",
   "metadata": {},
   "source": [
    "# Load and explore the data"
   ]
  },
  {
   "cell_type": "markdown",
   "metadata": {},
   "source": [
    "For Each Attribute: (all numeric-valued)\n",
    "   1. Number of times pregnant\n",
    "   2. Plasma glucose concentration a 2 hours in an oral glucose tolerance test\n",
    "   3. Diastolic blood pressure (mm Hg)\n",
    "   4. Triceps skin fold thickness (mm)\n",
    "   5. 2-Hour serum insulin (mu U/ml)\n",
    "   6. Body mass index (weight in kg/(height in m)^2)\n",
    "   7. Diabetes pedigree function\n",
    "   8. Age (years)\n",
    "   9. Class variable (0 or 1)"
   ]
  },
  {
   "cell_type": "code",
   "execution_count": 18,
   "metadata": {},
   "outputs": [],
   "source": [
    "dataset=pd.read_csv(\"data/pima-indians-diabetes-data.csv\")"
   ]
  },
  {
   "cell_type": "code",
   "execution_count": 19,
   "metadata": {},
   "outputs": [
    {
     "data": {
      "text/html": [
       "<div>\n",
       "<style scoped>\n",
       "    .dataframe tbody tr th:only-of-type {\n",
       "        vertical-align: middle;\n",
       "    }\n",
       "\n",
       "    .dataframe tbody tr th {\n",
       "        vertical-align: top;\n",
       "    }\n",
       "\n",
       "    .dataframe thead th {\n",
       "        text-align: right;\n",
       "    }\n",
       "</style>\n",
       "<table border=\"1\" class=\"dataframe\">\n",
       "  <thead>\n",
       "    <tr style=\"text-align: right;\">\n",
       "      <th></th>\n",
       "      <th>num_pregnant</th>\n",
       "      <th>plasma_glucose</th>\n",
       "      <th>blood_pressure</th>\n",
       "      <th>skin_thickness</th>\n",
       "      <th>insulin</th>\n",
       "      <th>bmi</th>\n",
       "      <th>pedigree</th>\n",
       "      <th>age</th>\n",
       "      <th>diabetes</th>\n",
       "    </tr>\n",
       "  </thead>\n",
       "  <tbody>\n",
       "    <tr>\n",
       "      <th>0</th>\n",
       "      <td>6</td>\n",
       "      <td>148</td>\n",
       "      <td>72</td>\n",
       "      <td>35</td>\n",
       "      <td>0</td>\n",
       "      <td>33.6</td>\n",
       "      <td>0.627</td>\n",
       "      <td>50</td>\n",
       "      <td>1</td>\n",
       "    </tr>\n",
       "    <tr>\n",
       "      <th>1</th>\n",
       "      <td>1</td>\n",
       "      <td>85</td>\n",
       "      <td>66</td>\n",
       "      <td>29</td>\n",
       "      <td>0</td>\n",
       "      <td>26.6</td>\n",
       "      <td>0.351</td>\n",
       "      <td>31</td>\n",
       "      <td>0</td>\n",
       "    </tr>\n",
       "    <tr>\n",
       "      <th>2</th>\n",
       "      <td>8</td>\n",
       "      <td>183</td>\n",
       "      <td>64</td>\n",
       "      <td>0</td>\n",
       "      <td>0</td>\n",
       "      <td>23.3</td>\n",
       "      <td>0.672</td>\n",
       "      <td>32</td>\n",
       "      <td>1</td>\n",
       "    </tr>\n",
       "    <tr>\n",
       "      <th>3</th>\n",
       "      <td>1</td>\n",
       "      <td>89</td>\n",
       "      <td>66</td>\n",
       "      <td>23</td>\n",
       "      <td>94</td>\n",
       "      <td>28.1</td>\n",
       "      <td>0.167</td>\n",
       "      <td>21</td>\n",
       "      <td>0</td>\n",
       "    </tr>\n",
       "    <tr>\n",
       "      <th>4</th>\n",
       "      <td>0</td>\n",
       "      <td>137</td>\n",
       "      <td>40</td>\n",
       "      <td>35</td>\n",
       "      <td>168</td>\n",
       "      <td>43.1</td>\n",
       "      <td>2.288</td>\n",
       "      <td>33</td>\n",
       "      <td>1</td>\n",
       "    </tr>\n",
       "  </tbody>\n",
       "</table>\n",
       "</div>"
      ],
      "text/plain": [
       "   num_pregnant  plasma_glucose  blood_pressure  skin_thickness  insulin  \\\n",
       "0             6             148              72              35        0   \n",
       "1             1              85              66              29        0   \n",
       "2             8             183              64               0        0   \n",
       "3             1              89              66              23       94   \n",
       "4             0             137              40              35      168   \n",
       "\n",
       "    bmi  pedigree  age  diabetes  \n",
       "0  33.6     0.627   50         1  \n",
       "1  26.6     0.351   31         0  \n",
       "2  23.3     0.672   32         1  \n",
       "3  28.1     0.167   21         0  \n",
       "4  43.1     2.288   33         1  "
      ]
     },
     "execution_count": 19,
     "metadata": {},
     "output_type": "execute_result"
    }
   ],
   "source": [
    "dataset.head()"
   ]
  },
  {
   "cell_type": "code",
   "execution_count": 20,
   "metadata": {},
   "outputs": [
    {
     "data": {
      "text/html": [
       "<div>\n",
       "<style scoped>\n",
       "    .dataframe tbody tr th:only-of-type {\n",
       "        vertical-align: middle;\n",
       "    }\n",
       "\n",
       "    .dataframe tbody tr th {\n",
       "        vertical-align: top;\n",
       "    }\n",
       "\n",
       "    .dataframe thead th {\n",
       "        text-align: right;\n",
       "    }\n",
       "</style>\n",
       "<table border=\"1\" class=\"dataframe\">\n",
       "  <thead>\n",
       "    <tr style=\"text-align: right;\">\n",
       "      <th></th>\n",
       "      <th>num_pregnant</th>\n",
       "      <th>plasma_glucose</th>\n",
       "      <th>blood_pressure</th>\n",
       "      <th>skin_thickness</th>\n",
       "      <th>insulin</th>\n",
       "      <th>bmi</th>\n",
       "      <th>pedigree</th>\n",
       "      <th>age</th>\n",
       "      <th>diabetes</th>\n",
       "    </tr>\n",
       "  </thead>\n",
       "  <tbody>\n",
       "    <tr>\n",
       "      <th>count</th>\n",
       "      <td>768.000000</td>\n",
       "      <td>768.000000</td>\n",
       "      <td>768.000000</td>\n",
       "      <td>768.000000</td>\n",
       "      <td>768.000000</td>\n",
       "      <td>768.000000</td>\n",
       "      <td>768.000000</td>\n",
       "      <td>768.000000</td>\n",
       "      <td>768.000000</td>\n",
       "    </tr>\n",
       "    <tr>\n",
       "      <th>mean</th>\n",
       "      <td>3.845052</td>\n",
       "      <td>120.894531</td>\n",
       "      <td>69.105469</td>\n",
       "      <td>20.536458</td>\n",
       "      <td>79.799479</td>\n",
       "      <td>31.992578</td>\n",
       "      <td>0.471876</td>\n",
       "      <td>33.240885</td>\n",
       "      <td>0.348958</td>\n",
       "    </tr>\n",
       "    <tr>\n",
       "      <th>std</th>\n",
       "      <td>3.369578</td>\n",
       "      <td>31.972618</td>\n",
       "      <td>19.355807</td>\n",
       "      <td>15.952218</td>\n",
       "      <td>115.244002</td>\n",
       "      <td>7.884160</td>\n",
       "      <td>0.331329</td>\n",
       "      <td>11.760232</td>\n",
       "      <td>0.476951</td>\n",
       "    </tr>\n",
       "    <tr>\n",
       "      <th>min</th>\n",
       "      <td>0.000000</td>\n",
       "      <td>0.000000</td>\n",
       "      <td>0.000000</td>\n",
       "      <td>0.000000</td>\n",
       "      <td>0.000000</td>\n",
       "      <td>0.000000</td>\n",
       "      <td>0.078000</td>\n",
       "      <td>21.000000</td>\n",
       "      <td>0.000000</td>\n",
       "    </tr>\n",
       "    <tr>\n",
       "      <th>25%</th>\n",
       "      <td>1.000000</td>\n",
       "      <td>99.000000</td>\n",
       "      <td>62.000000</td>\n",
       "      <td>0.000000</td>\n",
       "      <td>0.000000</td>\n",
       "      <td>27.300000</td>\n",
       "      <td>0.243750</td>\n",
       "      <td>24.000000</td>\n",
       "      <td>0.000000</td>\n",
       "    </tr>\n",
       "    <tr>\n",
       "      <th>50%</th>\n",
       "      <td>3.000000</td>\n",
       "      <td>117.000000</td>\n",
       "      <td>72.000000</td>\n",
       "      <td>23.000000</td>\n",
       "      <td>30.500000</td>\n",
       "      <td>32.000000</td>\n",
       "      <td>0.372500</td>\n",
       "      <td>29.000000</td>\n",
       "      <td>0.000000</td>\n",
       "    </tr>\n",
       "    <tr>\n",
       "      <th>75%</th>\n",
       "      <td>6.000000</td>\n",
       "      <td>140.250000</td>\n",
       "      <td>80.000000</td>\n",
       "      <td>32.000000</td>\n",
       "      <td>127.250000</td>\n",
       "      <td>36.600000</td>\n",
       "      <td>0.626250</td>\n",
       "      <td>41.000000</td>\n",
       "      <td>1.000000</td>\n",
       "    </tr>\n",
       "    <tr>\n",
       "      <th>max</th>\n",
       "      <td>17.000000</td>\n",
       "      <td>199.000000</td>\n",
       "      <td>122.000000</td>\n",
       "      <td>99.000000</td>\n",
       "      <td>846.000000</td>\n",
       "      <td>67.100000</td>\n",
       "      <td>2.420000</td>\n",
       "      <td>81.000000</td>\n",
       "      <td>1.000000</td>\n",
       "    </tr>\n",
       "  </tbody>\n",
       "</table>\n",
       "</div>"
      ],
      "text/plain": [
       "       num_pregnant  plasma_glucose  blood_pressure  skin_thickness  \\\n",
       "count    768.000000      768.000000      768.000000      768.000000   \n",
       "mean       3.845052      120.894531       69.105469       20.536458   \n",
       "std        3.369578       31.972618       19.355807       15.952218   \n",
       "min        0.000000        0.000000        0.000000        0.000000   \n",
       "25%        1.000000       99.000000       62.000000        0.000000   \n",
       "50%        3.000000      117.000000       72.000000       23.000000   \n",
       "75%        6.000000      140.250000       80.000000       32.000000   \n",
       "max       17.000000      199.000000      122.000000       99.000000   \n",
       "\n",
       "          insulin         bmi    pedigree         age    diabetes  \n",
       "count  768.000000  768.000000  768.000000  768.000000  768.000000  \n",
       "mean    79.799479   31.992578    0.471876   33.240885    0.348958  \n",
       "std    115.244002    7.884160    0.331329   11.760232    0.476951  \n",
       "min      0.000000    0.000000    0.078000   21.000000    0.000000  \n",
       "25%      0.000000   27.300000    0.243750   24.000000    0.000000  \n",
       "50%     30.500000   32.000000    0.372500   29.000000    0.000000  \n",
       "75%    127.250000   36.600000    0.626250   41.000000    1.000000  \n",
       "max    846.000000   67.100000    2.420000   81.000000    1.000000  "
      ]
     },
     "execution_count": 20,
     "metadata": {},
     "output_type": "execute_result"
    }
   ],
   "source": [
    "dataset.describe(include='all')"
   ]
  },
  {
   "cell_type": "markdown",
   "metadata": {},
   "source": [
    "# Prepare training and testing data"
   ]
  },
  {
   "cell_type": "code",
   "execution_count": 21,
   "metadata": {},
   "outputs": [
    {
     "data": {
      "text/html": [
       "<div>\n",
       "<style scoped>\n",
       "    .dataframe tbody tr th:only-of-type {\n",
       "        vertical-align: middle;\n",
       "    }\n",
       "\n",
       "    .dataframe tbody tr th {\n",
       "        vertical-align: top;\n",
       "    }\n",
       "\n",
       "    .dataframe thead th {\n",
       "        text-align: right;\n",
       "    }\n",
       "</style>\n",
       "<table border=\"1\" class=\"dataframe\">\n",
       "  <thead>\n",
       "    <tr style=\"text-align: right;\">\n",
       "      <th></th>\n",
       "      <th>num_pregnant</th>\n",
       "      <th>plasma_glucose</th>\n",
       "      <th>blood_pressure</th>\n",
       "      <th>skin_thickness</th>\n",
       "      <th>insulin</th>\n",
       "      <th>bmi</th>\n",
       "      <th>pedigree</th>\n",
       "      <th>age</th>\n",
       "    </tr>\n",
       "  </thead>\n",
       "  <tbody>\n",
       "    <tr>\n",
       "      <th>0</th>\n",
       "      <td>6</td>\n",
       "      <td>148</td>\n",
       "      <td>72</td>\n",
       "      <td>35</td>\n",
       "      <td>0</td>\n",
       "      <td>33.6</td>\n",
       "      <td>0.627</td>\n",
       "      <td>50</td>\n",
       "    </tr>\n",
       "    <tr>\n",
       "      <th>1</th>\n",
       "      <td>1</td>\n",
       "      <td>85</td>\n",
       "      <td>66</td>\n",
       "      <td>29</td>\n",
       "      <td>0</td>\n",
       "      <td>26.6</td>\n",
       "      <td>0.351</td>\n",
       "      <td>31</td>\n",
       "    </tr>\n",
       "    <tr>\n",
       "      <th>2</th>\n",
       "      <td>8</td>\n",
       "      <td>183</td>\n",
       "      <td>64</td>\n",
       "      <td>0</td>\n",
       "      <td>0</td>\n",
       "      <td>23.3</td>\n",
       "      <td>0.672</td>\n",
       "      <td>32</td>\n",
       "    </tr>\n",
       "    <tr>\n",
       "      <th>3</th>\n",
       "      <td>1</td>\n",
       "      <td>89</td>\n",
       "      <td>66</td>\n",
       "      <td>23</td>\n",
       "      <td>94</td>\n",
       "      <td>28.1</td>\n",
       "      <td>0.167</td>\n",
       "      <td>21</td>\n",
       "    </tr>\n",
       "    <tr>\n",
       "      <th>4</th>\n",
       "      <td>0</td>\n",
       "      <td>137</td>\n",
       "      <td>40</td>\n",
       "      <td>35</td>\n",
       "      <td>168</td>\n",
       "      <td>43.1</td>\n",
       "      <td>2.288</td>\n",
       "      <td>33</td>\n",
       "    </tr>\n",
       "  </tbody>\n",
       "</table>\n",
       "</div>"
      ],
      "text/plain": [
       "   num_pregnant  plasma_glucose  blood_pressure  skin_thickness  insulin  \\\n",
       "0             6             148              72              35        0   \n",
       "1             1              85              66              29        0   \n",
       "2             8             183              64               0        0   \n",
       "3             1              89              66              23       94   \n",
       "4             0             137              40              35      168   \n",
       "\n",
       "    bmi  pedigree  age  \n",
       "0  33.6     0.627   50  \n",
       "1  26.6     0.351   31  \n",
       "2  23.3     0.672   32  \n",
       "3  28.1     0.167   21  \n",
       "4  43.1     2.288   33  "
      ]
     },
     "execution_count": 21,
     "metadata": {},
     "output_type": "execute_result"
    }
   ],
   "source": [
    "#create a dataframe with all training data except the target column\n",
    "X = dataset.drop(columns=['diabetes'])\n",
    "\n",
    "#check that the target variable has been removed\n",
    "X.head()"
   ]
  },
  {
   "cell_type": "code",
   "execution_count": 22,
   "metadata": {},
   "outputs": [
    {
     "data": {
      "text/plain": [
       "array([[0., 1.],\n",
       "       [1., 0.],\n",
       "       [0., 1.],\n",
       "       ...,\n",
       "       [1., 0.],\n",
       "       [0., 1.],\n",
       "       [1., 0.]], dtype=float32)"
      ]
     },
     "execution_count": 22,
     "metadata": {},
     "output_type": "execute_result"
    }
   ],
   "source": [
    "#one-hot encode target column\n",
    "Y = to_categorical(dataset.diabetes)\n",
    "\n",
    "Y"
   ]
  },
  {
   "cell_type": "code",
   "execution_count": 23,
   "metadata": {},
   "outputs": [],
   "source": [
    "(trainX, testX, trainY, testY) = train_test_split(X, Y, test_size=0.25, random_state=42)"
   ]
  },
  {
   "cell_type": "code",
   "execution_count": 24,
   "metadata": {},
   "outputs": [
    {
     "name": "stdout",
     "output_type": "stream",
     "text": [
      "Number of image in training set  576 576\n",
      "Number of image in tesing set  192 192\n"
     ]
    }
   ],
   "source": [
    "print(\"Number of image in training set \",len(trainX), len(trainY))\n",
    "print(\"Number of image in tesing set \",len(testX), len(testY))"
   ]
  },
  {
   "cell_type": "markdown",
   "metadata": {},
   "source": [
    "# Create a model"
   ]
  },
  {
   "cell_type": "code",
   "execution_count": 54,
   "metadata": {},
   "outputs": [
    {
     "name": "stdout",
     "output_type": "stream",
     "text": [
      "8\n"
     ]
    }
   ],
   "source": [
    "#create model\n",
    "model = Sequential()\n",
    "\n",
    "#get number of columns in training data\n",
    "n_cols = X.shape[1]\n",
    "\n",
    "print(n_cols)\n",
    "#add layers to model\n",
    "model.add(Dense(12, activation='relu', input_shape=(n_cols,)))\n",
    "model.add(Dense(8, activation='relu'))\n",
    "model.add(Dense(2, activation='softmax')) # softmax"
   ]
  },
  {
   "cell_type": "code",
   "execution_count": 55,
   "metadata": {},
   "outputs": [
    {
     "name": "stdout",
     "output_type": "stream",
     "text": [
      "_________________________________________________________________\n",
      "Layer (type)                 Output Shape              Param #   \n",
      "=================================================================\n",
      "dense_26 (Dense)             (None, 12)                108       \n",
      "_________________________________________________________________\n",
      "dense_27 (Dense)             (None, 8)                 104       \n",
      "_________________________________________________________________\n",
      "dense_28 (Dense)             (None, 2)                 18        \n",
      "=================================================================\n",
      "Total params: 230\n",
      "Trainable params: 230\n",
      "Non-trainable params: 0\n",
      "_________________________________________________________________\n"
     ]
    }
   ],
   "source": [
    "model.summary()"
   ]
  },
  {
   "cell_type": "markdown",
   "metadata": {},
   "source": [
    "# Compile the model"
   ]
  },
  {
   "cell_type": "code",
   "execution_count": 56,
   "metadata": {},
   "outputs": [],
   "source": [
    "#compile model using accuracy to measure model performance\n",
    "model.compile(optimizer='adam', loss='binary_crossentropy', metrics=['accuracy']) # binary_crossentropy"
   ]
  },
  {
   "cell_type": "markdown",
   "metadata": {},
   "source": [
    "# Train the model"
   ]
  },
  {
   "cell_type": "code",
   "execution_count": 58,
   "metadata": {},
   "outputs": [
    {
     "name": "stdout",
     "output_type": "stream",
     "text": [
      "Train on 576 samples, validate on 192 samples\n",
      "Epoch 1/150\n",
      "576/576 [==============================] - 0s 181us/step - loss: 0.5349 - acc: 0.7483 - val_loss: 0.6176 - val_acc: 0.7187\n",
      "Epoch 2/150\n",
      "576/576 [==============================] - 0s 131us/step - loss: 0.5367 - acc: 0.7448 - val_loss: 0.6032 - val_acc: 0.7031\n",
      "Epoch 3/150\n",
      "576/576 [==============================] - 0s 113us/step - loss: 0.5252 - acc: 0.7413 - val_loss: 0.5919 - val_acc: 0.6979\n",
      "Epoch 4/150\n",
      "576/576 [==============================] - 0s 114us/step - loss: 0.5262 - acc: 0.7448 - val_loss: 0.5692 - val_acc: 0.7240\n",
      "Epoch 5/150\n",
      "576/576 [==============================] - 0s 110us/step - loss: 0.5340 - acc: 0.7378 - val_loss: 0.5797 - val_acc: 0.7135\n",
      "Epoch 6/150\n",
      "576/576 [==============================] - 0s 104us/step - loss: 0.5313 - acc: 0.7517 - val_loss: 0.5836 - val_acc: 0.7188\n",
      "Epoch 7/150\n",
      "576/576 [==============================] - 0s 104us/step - loss: 0.5236 - acc: 0.7431 - val_loss: 0.6023 - val_acc: 0.7135\n",
      "Epoch 8/150\n",
      "576/576 [==============================] - 0s 108us/step - loss: 0.5271 - acc: 0.7517 - val_loss: 0.6353 - val_acc: 0.6823\n",
      "Epoch 9/150\n",
      "576/576 [==============================] - 0s 105us/step - loss: 0.5245 - acc: 0.7413 - val_loss: 0.5697 - val_acc: 0.7135\n",
      "Epoch 10/150\n",
      "576/576 [==============================] - 0s 125us/step - loss: 0.5208 - acc: 0.7431 - val_loss: 0.5805 - val_acc: 0.7031\n",
      "Epoch 11/150\n",
      "576/576 [==============================] - 0s 106us/step - loss: 0.5385 - acc: 0.7483 - val_loss: 0.5987 - val_acc: 0.7188\n",
      "Epoch 12/150\n",
      "576/576 [==============================] - 0s 115us/step - loss: 0.5182 - acc: 0.7552 - val_loss: 0.6182 - val_acc: 0.7292\n",
      "Epoch 13/150\n",
      "576/576 [==============================] - 0s 108us/step - loss: 0.5198 - acc: 0.7569 - val_loss: 0.5822 - val_acc: 0.7344\n",
      "Epoch 14/150\n",
      "576/576 [==============================] - 0s 116us/step - loss: 0.5182 - acc: 0.7639 - val_loss: 0.5856 - val_acc: 0.6979\n",
      "Epoch 15/150\n",
      "576/576 [==============================] - 0s 129us/step - loss: 0.5285 - acc: 0.7500 - val_loss: 0.5918 - val_acc: 0.6927\n",
      "Epoch 16/150\n",
      "576/576 [==============================] - 0s 143us/step - loss: 0.5275 - acc: 0.7431 - val_loss: 0.5819 - val_acc: 0.7083\n",
      "Epoch 17/150\n",
      "576/576 [==============================] - 0s 114us/step - loss: 0.5232 - acc: 0.7656 - val_loss: 0.5976 - val_acc: 0.6979\n",
      "Epoch 18/150\n",
      "576/576 [==============================] - 0s 119us/step - loss: 0.5361 - acc: 0.7378 - val_loss: 0.6045 - val_acc: 0.7083\n",
      "Epoch 19/150\n",
      "576/576 [==============================] - ETA: 0s - loss: 0.5118 - acc: 0.759 - 0s 112us/step - loss: 0.5170 - acc: 0.7552 - val_loss: 0.5672 - val_acc: 0.7083\n",
      "Epoch 20/150\n",
      "576/576 [==============================] - 0s 127us/step - loss: 0.5250 - acc: 0.7639 - val_loss: 0.5835 - val_acc: 0.7083\n",
      "Epoch 21/150\n",
      "576/576 [==============================] - 0s 112us/step - loss: 0.5169 - acc: 0.7639 - val_loss: 0.5792 - val_acc: 0.7344\n",
      "Epoch 22/150\n",
      "576/576 [==============================] - 0s 123us/step - loss: 0.5090 - acc: 0.7639 - val_loss: 0.6002 - val_acc: 0.7292\n",
      "Epoch 23/150\n",
      "576/576 [==============================] - 0s 116us/step - loss: 0.5181 - acc: 0.7708 - val_loss: 0.6075 - val_acc: 0.7188\n",
      "Epoch 24/150\n",
      "576/576 [==============================] - 0s 115us/step - loss: 0.5092 - acc: 0.7552 - val_loss: 0.6178 - val_acc: 0.7500\n",
      "Epoch 25/150\n",
      "576/576 [==============================] - 0s 121us/step - loss: 0.5139 - acc: 0.7552 - val_loss: 0.5860 - val_acc: 0.7396\n",
      "Epoch 26/150\n",
      "576/576 [==============================] - 0s 108us/step - loss: 0.5137 - acc: 0.7535 - val_loss: 0.5588 - val_acc: 0.7500\n",
      "Epoch 27/150\n",
      "576/576 [==============================] - 0s 120us/step - loss: 0.5075 - acc: 0.7587 - val_loss: 0.5634 - val_acc: 0.7240\n",
      "Epoch 28/150\n",
      "576/576 [==============================] - 0s 125us/step - loss: 0.5126 - acc: 0.7517 - val_loss: 0.5585 - val_acc: 0.7396\n",
      "Epoch 29/150\n",
      "576/576 [==============================] - 0s 121us/step - loss: 0.5101 - acc: 0.7622 - val_loss: 0.5612 - val_acc: 0.7552\n",
      "Epoch 30/150\n",
      "576/576 [==============================] - 0s 125us/step - loss: 0.5156 - acc: 0.7517 - val_loss: 0.6025 - val_acc: 0.7187\n",
      "Epoch 31/150\n",
      "576/576 [==============================] - 0s 133us/step - loss: 0.5082 - acc: 0.7691 - val_loss: 0.5788 - val_acc: 0.7135\n",
      "Epoch 32/150\n",
      "576/576 [==============================] - 0s 125us/step - loss: 0.5003 - acc: 0.7813 - val_loss: 0.6194 - val_acc: 0.7344\n",
      "Epoch 33/150\n",
      "576/576 [==============================] - 0s 129us/step - loss: 0.5008 - acc: 0.7622 - val_loss: 0.5838 - val_acc: 0.7344\n",
      "Epoch 34/150\n",
      "576/576 [==============================] - 0s 128us/step - loss: 0.4931 - acc: 0.7760 - val_loss: 0.6105 - val_acc: 0.6979\n",
      "Epoch 35/150\n",
      "576/576 [==============================] - 0s 121us/step - loss: 0.5004 - acc: 0.7604 - val_loss: 0.6128 - val_acc: 0.7031\n",
      "Epoch 36/150\n",
      "576/576 [==============================] - 0s 119us/step - loss: 0.5050 - acc: 0.7899 - val_loss: 0.6338 - val_acc: 0.7240\n",
      "Epoch 37/150\n",
      "576/576 [==============================] - 0s 116us/step - loss: 0.5114 - acc: 0.7396 - val_loss: 0.5605 - val_acc: 0.7344\n",
      "Epoch 38/150\n",
      "576/576 [==============================] - 0s 122us/step - loss: 0.5037 - acc: 0.7604 - val_loss: 0.6076 - val_acc: 0.7083\n",
      "Epoch 39/150\n",
      "576/576 [==============================] - 0s 124us/step - loss: 0.5093 - acc: 0.7552 - val_loss: 0.5640 - val_acc: 0.7240\n",
      "Epoch 40/150\n",
      "576/576 [==============================] - 0s 125us/step - loss: 0.5028 - acc: 0.7500 - val_loss: 0.5757 - val_acc: 0.7187\n",
      "Epoch 41/150\n",
      "576/576 [==============================] - 0s 121us/step - loss: 0.4918 - acc: 0.7778 - val_loss: 0.5815 - val_acc: 0.7240\n",
      "Epoch 42/150\n",
      "576/576 [==============================] - 0s 118us/step - loss: 0.4964 - acc: 0.7622 - val_loss: 0.6223 - val_acc: 0.7188\n",
      "Epoch 43/150\n",
      "576/576 [==============================] - 0s 104us/step - loss: 0.5048 - acc: 0.7743 - val_loss: 0.5774 - val_acc: 0.7083\n",
      "Epoch 44/150\n",
      "576/576 [==============================] - 0s 113us/step - loss: 0.4913 - acc: 0.7778 - val_loss: 0.6001 - val_acc: 0.7187\n",
      "Epoch 45/150\n",
      "576/576 [==============================] - 0s 108us/step - loss: 0.4988 - acc: 0.7535 - val_loss: 0.5741 - val_acc: 0.7396\n",
      "Epoch 46/150\n",
      "576/576 [==============================] - 0s 119us/step - loss: 0.5041 - acc: 0.7760 - val_loss: 0.6795 - val_acc: 0.7396\n",
      "Epoch 47/150\n",
      "576/576 [==============================] - 0s 120us/step - loss: 0.5113 - acc: 0.7552 - val_loss: 0.5868 - val_acc: 0.7344\n",
      "Epoch 48/150\n",
      "576/576 [==============================] - 0s 127us/step - loss: 0.4880 - acc: 0.7726 - val_loss: 0.5737 - val_acc: 0.7500\n",
      "Epoch 49/150\n",
      "576/576 [==============================] - 0s 105us/step - loss: 0.4902 - acc: 0.7691 - val_loss: 0.5943 - val_acc: 0.7083\n",
      "Epoch 50/150\n",
      "576/576 [==============================] - 0s 107us/step - loss: 0.5013 - acc: 0.7691 - val_loss: 0.5665 - val_acc: 0.7448\n",
      "Epoch 51/150\n",
      "576/576 [==============================] - 0s 100us/step - loss: 0.4924 - acc: 0.7726 - val_loss: 0.5769 - val_acc: 0.7135\n",
      "Epoch 52/150\n",
      "576/576 [==============================] - 0s 99us/step - loss: 0.4822 - acc: 0.7812 - val_loss: 0.5699 - val_acc: 0.7292\n",
      "Epoch 53/150\n",
      "576/576 [==============================] - 0s 99us/step - loss: 0.5031 - acc: 0.7726 - val_loss: 0.5541 - val_acc: 0.7604\n",
      "Epoch 54/150\n",
      "576/576 [==============================] - 0s 112us/step - loss: 0.4883 - acc: 0.7726 - val_loss: 0.5524 - val_acc: 0.7656\n",
      "Epoch 55/150\n",
      "576/576 [==============================] - 0s 110us/step - loss: 0.5086 - acc: 0.7569 - val_loss: 0.5835 - val_acc: 0.7500\n",
      "Epoch 56/150\n",
      "576/576 [==============================] - 0s 115us/step - loss: 0.4900 - acc: 0.7795 - val_loss: 0.5667 - val_acc: 0.7396\n",
      "Epoch 57/150\n",
      "576/576 [==============================] - 0s 113us/step - loss: 0.4896 - acc: 0.7656 - val_loss: 0.5796 - val_acc: 0.7135\n",
      "Epoch 58/150\n",
      "576/576 [==============================] - 0s 112us/step - loss: 0.4855 - acc: 0.7708 - val_loss: 0.5944 - val_acc: 0.7188\n",
      "Epoch 59/150\n",
      "576/576 [==============================] - 0s 116us/step - loss: 0.4851 - acc: 0.7674 - val_loss: 0.5930 - val_acc: 0.7031\n",
      "Epoch 60/150\n",
      "576/576 [==============================] - 0s 111us/step - loss: 0.4848 - acc: 0.7691 - val_loss: 0.6106 - val_acc: 0.7135\n"
     ]
    },
    {
     "name": "stdout",
     "output_type": "stream",
     "text": [
      "Epoch 61/150\n",
      "576/576 [==============================] - 0s 113us/step - loss: 0.4932 - acc: 0.7639 - val_loss: 0.6329 - val_acc: 0.7240\n",
      "Epoch 62/150\n",
      "576/576 [==============================] - 0s 103us/step - loss: 0.4899 - acc: 0.7674 - val_loss: 0.6498 - val_acc: 0.7187\n",
      "Epoch 63/150\n",
      "576/576 [==============================] - 0s 108us/step - loss: 0.5085 - acc: 0.7535 - val_loss: 0.5779 - val_acc: 0.7344\n",
      "Epoch 64/150\n",
      "576/576 [==============================] - 0s 120us/step - loss: 0.4854 - acc: 0.7726 - val_loss: 0.5497 - val_acc: 0.7656\n",
      "Epoch 65/150\n",
      "576/576 [==============================] - 0s 125us/step - loss: 0.4858 - acc: 0.7726 - val_loss: 0.6184 - val_acc: 0.7188\n",
      "Epoch 66/150\n",
      "576/576 [==============================] - 0s 106us/step - loss: 0.4814 - acc: 0.7674 - val_loss: 0.6109 - val_acc: 0.7344\n",
      "Epoch 67/150\n",
      "576/576 [==============================] - 0s 104us/step - loss: 0.4881 - acc: 0.7674 - val_loss: 0.5573 - val_acc: 0.7552\n",
      "Epoch 68/150\n",
      "576/576 [==============================] - 0s 105us/step - loss: 0.4807 - acc: 0.7674 - val_loss: 0.5573 - val_acc: 0.7552\n",
      "Epoch 69/150\n",
      "576/576 [==============================] - 0s 104us/step - loss: 0.4763 - acc: 0.7726 - val_loss: 0.6108 - val_acc: 0.7448\n",
      "Epoch 70/150\n",
      "576/576 [==============================] - 0s 111us/step - loss: 0.4832 - acc: 0.7726 - val_loss: 0.5839 - val_acc: 0.7135\n",
      "Epoch 71/150\n",
      "576/576 [==============================] - 0s 113us/step - loss: 0.4813 - acc: 0.7778 - val_loss: 0.5997 - val_acc: 0.7500\n",
      "Epoch 72/150\n",
      "576/576 [==============================] - 0s 107us/step - loss: 0.4822 - acc: 0.7656 - val_loss: 0.6061 - val_acc: 0.7292\n",
      "Epoch 73/150\n",
      "576/576 [==============================] - 0s 119us/step - loss: 0.4807 - acc: 0.7656 - val_loss: 0.6009 - val_acc: 0.7448\n",
      "Epoch 74/150\n",
      "576/576 [==============================] - 0s 117us/step - loss: 0.4777 - acc: 0.7812 - val_loss: 0.5507 - val_acc: 0.7708\n",
      "Epoch 75/150\n",
      "576/576 [==============================] - 0s 123us/step - loss: 0.4823 - acc: 0.7830 - val_loss: 0.5521 - val_acc: 0.7604\n",
      "Epoch 76/150\n",
      "576/576 [==============================] - 0s 114us/step - loss: 0.4823 - acc: 0.7812 - val_loss: 0.5787 - val_acc: 0.7500\n",
      "Epoch 77/150\n",
      "576/576 [==============================] - 0s 110us/step - loss: 0.4814 - acc: 0.7726 - val_loss: 0.6136 - val_acc: 0.7500\n",
      "Epoch 78/150\n",
      "576/576 [==============================] - 0s 104us/step - loss: 0.4768 - acc: 0.7778 - val_loss: 0.6093 - val_acc: 0.7500\n",
      "Epoch 79/150\n",
      "576/576 [==============================] - 0s 103us/step - loss: 0.4719 - acc: 0.7778 - val_loss: 0.5747 - val_acc: 0.7344\n",
      "Epoch 80/150\n",
      "576/576 [==============================] - 0s 116us/step - loss: 0.4978 - acc: 0.7726 - val_loss: 0.7248 - val_acc: 0.7135\n",
      "Epoch 81/150\n",
      "576/576 [==============================] - 0s 107us/step - loss: 0.5003 - acc: 0.7795 - val_loss: 0.5702 - val_acc: 0.7500\n",
      "Epoch 82/150\n",
      "576/576 [==============================] - 0s 114us/step - loss: 0.4897 - acc: 0.7674 - val_loss: 0.6000 - val_acc: 0.7187\n",
      "Epoch 83/150\n",
      "576/576 [==============================] - 0s 110us/step - loss: 0.5048 - acc: 0.7639 - val_loss: 0.5503 - val_acc: 0.7500\n",
      "Epoch 84/150\n",
      "576/576 [==============================] - 0s 111us/step - loss: 0.4811 - acc: 0.7691 - val_loss: 0.5630 - val_acc: 0.7240\n",
      "Epoch 85/150\n",
      "576/576 [==============================] - 0s 105us/step - loss: 0.4773 - acc: 0.7847 - val_loss: 0.5751 - val_acc: 0.7188\n",
      "Epoch 86/150\n",
      "576/576 [==============================] - 0s 107us/step - loss: 0.4724 - acc: 0.7795 - val_loss: 0.5705 - val_acc: 0.7344\n",
      "Epoch 87/150\n",
      "576/576 [==============================] - 0s 108us/step - loss: 0.4826 - acc: 0.7708 - val_loss: 0.5783 - val_acc: 0.7240\n",
      "Epoch 88/150\n",
      "576/576 [==============================] - 0s 116us/step - loss: 0.5003 - acc: 0.7708 - val_loss: 0.5662 - val_acc: 0.7396\n",
      "Epoch 89/150\n",
      "576/576 [==============================] - 0s 118us/step - loss: 0.4804 - acc: 0.7743 - val_loss: 0.5897 - val_acc: 0.7344\n",
      "Epoch 90/150\n",
      "576/576 [==============================] - 0s 118us/step - loss: 0.4844 - acc: 0.7726 - val_loss: 0.5537 - val_acc: 0.7396\n",
      "Epoch 91/150\n",
      "576/576 [==============================] - 0s 109us/step - loss: 0.4919 - acc: 0.7795 - val_loss: 0.5716 - val_acc: 0.7292\n",
      "Epoch 92/150\n",
      "576/576 [==============================] - 0s 114us/step - loss: 0.4685 - acc: 0.7812 - val_loss: 0.5547 - val_acc: 0.7396\n",
      "Epoch 93/150\n",
      "576/576 [==============================] - 0s 120us/step - loss: 0.4832 - acc: 0.7656 - val_loss: 0.5534 - val_acc: 0.7552\n",
      "Epoch 94/150\n",
      "576/576 [==============================] - 0s 116us/step - loss: 0.4739 - acc: 0.7726 - val_loss: 0.5598 - val_acc: 0.7448\n",
      "Epoch 95/150\n",
      "576/576 [==============================] - 0s 121us/step - loss: 0.4735 - acc: 0.7830 - val_loss: 0.5594 - val_acc: 0.7448\n",
      "Epoch 96/150\n",
      "576/576 [==============================] - 0s 120us/step - loss: 0.4930 - acc: 0.7604 - val_loss: 0.6085 - val_acc: 0.7083\n",
      "Epoch 97/150\n",
      "576/576 [==============================] - 0s 115us/step - loss: 0.4790 - acc: 0.7778 - val_loss: 0.5887 - val_acc: 0.7396\n",
      "Epoch 98/150\n",
      "576/576 [==============================] - 0s 119us/step - loss: 0.4709 - acc: 0.7847 - val_loss: 0.5609 - val_acc: 0.7292\n",
      "Epoch 99/150\n",
      "576/576 [==============================] - 0s 116us/step - loss: 0.4863 - acc: 0.7795 - val_loss: 0.5996 - val_acc: 0.7240\n",
      "Epoch 100/150\n",
      "576/576 [==============================] - 0s 115us/step - loss: 0.4792 - acc: 0.7639 - val_loss: 0.5574 - val_acc: 0.7396\n",
      "Epoch 101/150\n",
      "576/576 [==============================] - 0s 114us/step - loss: 0.4738 - acc: 0.7865 - val_loss: 0.5494 - val_acc: 0.7656\n",
      "Epoch 102/150\n",
      "576/576 [==============================] - 0s 114us/step - loss: 0.4680 - acc: 0.7882 - val_loss: 0.5478 - val_acc: 0.7396\n",
      "Epoch 103/150\n",
      "576/576 [==============================] - 0s 122us/step - loss: 0.4612 - acc: 0.7830 - val_loss: 0.5492 - val_acc: 0.7448\n",
      "Epoch 104/150\n",
      "576/576 [==============================] - 0s 124us/step - loss: 0.4615 - acc: 0.7830 - val_loss: 0.5511 - val_acc: 0.7552\n",
      "Epoch 105/150\n",
      "576/576 [==============================] - 0s 116us/step - loss: 0.4770 - acc: 0.7847 - val_loss: 0.5622 - val_acc: 0.7396\n",
      "Epoch 106/150\n",
      "576/576 [==============================] - 0s 143us/step - loss: 0.4684 - acc: 0.7882 - val_loss: 0.5540 - val_acc: 0.7552\n",
      "Epoch 107/150\n",
      "576/576 [==============================] - 0s 115us/step - loss: 0.4807 - acc: 0.7708 - val_loss: 0.5457 - val_acc: 0.7500\n",
      "Epoch 108/150\n",
      "576/576 [==============================] - 0s 108us/step - loss: 0.4781 - acc: 0.7691 - val_loss: 0.5483 - val_acc: 0.7448\n",
      "Epoch 109/150\n",
      "576/576 [==============================] - 0s 108us/step - loss: 0.4800 - acc: 0.7830 - val_loss: 0.5556 - val_acc: 0.7344\n",
      "Epoch 110/150\n",
      "576/576 [==============================] - 0s 126us/step - loss: 0.4689 - acc: 0.7865 - val_loss: 0.5789 - val_acc: 0.7240\n",
      "Epoch 111/150\n",
      "576/576 [==============================] - 0s 109us/step - loss: 0.4790 - acc: 0.7674 - val_loss: 0.5814 - val_acc: 0.7188\n",
      "Epoch 112/150\n",
      "576/576 [==============================] - 0s 109us/step - loss: 0.5070 - acc: 0.7396 - val_loss: 0.5493 - val_acc: 0.7292\n",
      "Epoch 113/150\n",
      "576/576 [==============================] - 0s 111us/step - loss: 0.4637 - acc: 0.8056 - val_loss: 0.5576 - val_acc: 0.7344\n",
      "Epoch 114/150\n",
      "576/576 [==============================] - 0s 109us/step - loss: 0.4696 - acc: 0.7899 - val_loss: 0.5517 - val_acc: 0.7500\n",
      "Epoch 115/150\n",
      "576/576 [==============================] - 0s 117us/step - loss: 0.4698 - acc: 0.7882 - val_loss: 0.5617 - val_acc: 0.7240\n",
      "Epoch 116/150\n",
      "576/576 [==============================] - 0s 107us/step - loss: 0.4617 - acc: 0.7882 - val_loss: 0.5404 - val_acc: 0.7604\n",
      "Epoch 117/150\n",
      "576/576 [==============================] - 0s 110us/step - loss: 0.4551 - acc: 0.7830 - val_loss: 0.5598 - val_acc: 0.7292\n",
      "Epoch 118/150\n",
      "576/576 [==============================] - 0s 108us/step - loss: 0.4570 - acc: 0.7760 - val_loss: 0.5613 - val_acc: 0.7292\n",
      "Epoch 119/150\n",
      "576/576 [==============================] - 0s 119us/step - loss: 0.4630 - acc: 0.7830 - val_loss: 0.5431 - val_acc: 0.7500\n",
      "Epoch 120/150\n",
      "576/576 [==============================] - 0s 111us/step - loss: 0.4674 - acc: 0.7865 - val_loss: 0.5775 - val_acc: 0.7344\n",
      "Epoch 121/150\n"
     ]
    },
    {
     "name": "stdout",
     "output_type": "stream",
     "text": [
      "576/576 [==============================] - 0s 113us/step - loss: 0.4526 - acc: 0.8003 - val_loss: 0.5416 - val_acc: 0.7396\n",
      "Epoch 122/150\n",
      "576/576 [==============================] - 0s 119us/step - loss: 0.4680 - acc: 0.7812 - val_loss: 0.5406 - val_acc: 0.7500\n",
      "Epoch 123/150\n",
      "576/576 [==============================] - 0s 109us/step - loss: 0.4550 - acc: 0.7847 - val_loss: 0.5760 - val_acc: 0.7292\n",
      "Epoch 124/150\n",
      "576/576 [==============================] - 0s 108us/step - loss: 0.4672 - acc: 0.7812 - val_loss: 0.5514 - val_acc: 0.7344\n",
      "Epoch 125/150\n",
      "576/576 [==============================] - 0s 114us/step - loss: 0.4524 - acc: 0.7882 - val_loss: 0.5584 - val_acc: 0.7292\n",
      "Epoch 126/150\n",
      "576/576 [==============================] - 0s 105us/step - loss: 0.4636 - acc: 0.7847 - val_loss: 0.5412 - val_acc: 0.7656\n",
      "Epoch 127/150\n",
      "576/576 [==============================] - 0s 122us/step - loss: 0.4753 - acc: 0.7865 - val_loss: 0.5570 - val_acc: 0.7344\n",
      "Epoch 128/150\n",
      "576/576 [==============================] - 0s 123us/step - loss: 0.4597 - acc: 0.7760 - val_loss: 0.5418 - val_acc: 0.7396\n",
      "Epoch 129/150\n",
      "576/576 [==============================] - 0s 132us/step - loss: 0.4590 - acc: 0.8003 - val_loss: 0.5465 - val_acc: 0.7292\n",
      "Epoch 130/150\n",
      "576/576 [==============================] - 0s 121us/step - loss: 0.4504 - acc: 0.7917 - val_loss: 0.5455 - val_acc: 0.7396\n",
      "Epoch 131/150\n",
      "576/576 [==============================] - 0s 132us/step - loss: 0.4539 - acc: 0.7969 - val_loss: 0.5423 - val_acc: 0.7552\n",
      "Epoch 132/150\n",
      "576/576 [==============================] - 0s 116us/step - loss: 0.4519 - acc: 0.7969 - val_loss: 0.5417 - val_acc: 0.7448\n",
      "Epoch 133/150\n",
      "576/576 [==============================] - 0s 114us/step - loss: 0.4484 - acc: 0.7847 - val_loss: 0.5760 - val_acc: 0.7292\n",
      "Epoch 134/150\n",
      "576/576 [==============================] - 0s 127us/step - loss: 0.4517 - acc: 0.8021 - val_loss: 0.5457 - val_acc: 0.7604\n",
      "Epoch 135/150\n",
      "576/576 [==============================] - 0s 110us/step - loss: 0.4646 - acc: 0.7812 - val_loss: 0.5431 - val_acc: 0.7552\n",
      "Epoch 136/150\n",
      "576/576 [==============================] - 0s 122us/step - loss: 0.4555 - acc: 0.7934 - val_loss: 0.5385 - val_acc: 0.7448\n",
      "Epoch 137/150\n",
      "576/576 [==============================] - 0s 109us/step - loss: 0.4562 - acc: 0.7795 - val_loss: 0.5630 - val_acc: 0.7396\n",
      "Epoch 138/150\n",
      "576/576 [==============================] - 0s 113us/step - loss: 0.4539 - acc: 0.7847 - val_loss: 0.5430 - val_acc: 0.7604\n",
      "Epoch 139/150\n",
      "576/576 [==============================] - 0s 107us/step - loss: 0.4572 - acc: 0.7986 - val_loss: 0.5422 - val_acc: 0.7708\n",
      "Epoch 140/150\n",
      "576/576 [==============================] - 0s 110us/step - loss: 0.4449 - acc: 0.8038 - val_loss: 0.5512 - val_acc: 0.7448\n",
      "Epoch 141/150\n",
      "576/576 [==============================] - 0s 147us/step - loss: 0.4429 - acc: 0.7882 - val_loss: 0.5424 - val_acc: 0.7552\n",
      "Epoch 142/150\n",
      "576/576 [==============================] - 0s 129us/step - loss: 0.4464 - acc: 0.8125 - val_loss: 0.5632 - val_acc: 0.7344\n",
      "Epoch 143/150\n",
      "576/576 [==============================] - 0s 137us/step - loss: 0.4400 - acc: 0.7986 - val_loss: 0.5432 - val_acc: 0.7500\n",
      "Epoch 144/150\n",
      "576/576 [==============================] - 0s 120us/step - loss: 0.4424 - acc: 0.8021 - val_loss: 0.5658 - val_acc: 0.7292\n",
      "Epoch 145/150\n",
      "576/576 [==============================] - 0s 121us/step - loss: 0.4979 - acc: 0.7691 - val_loss: 0.5615 - val_acc: 0.7604\n",
      "Epoch 146/150\n",
      "576/576 [==============================] - 0s 125us/step - loss: 0.4448 - acc: 0.7986 - val_loss: 0.5503 - val_acc: 0.7135\n",
      "Epoch 147/150\n",
      "576/576 [==============================] - 0s 136us/step - loss: 0.4480 - acc: 0.7934 - val_loss: 0.5491 - val_acc: 0.7604\n",
      "Epoch 148/150\n",
      "576/576 [==============================] - 0s 164us/step - loss: 0.4520 - acc: 0.7865 - val_loss: 0.5841 - val_acc: 0.7396\n",
      "Epoch 149/150\n",
      "576/576 [==============================] - 0s 115us/step - loss: 0.4508 - acc: 0.7951 - val_loss: 0.5505 - val_acc: 0.7552\n",
      "Epoch 150/150\n",
      "576/576 [==============================] - 0s 120us/step - loss: 0.4476 - acc: 0.8108 - val_loss: 0.5479 - val_acc: 0.7552\n"
     ]
    }
   ],
   "source": [
    "# Fit the model\n",
    "H = model.fit(trainX, trainY, epochs=150, batch_size=10, validation_data=(testX, testY))"
   ]
  },
  {
   "cell_type": "markdown",
   "metadata": {},
   "source": [
    "# Evaluate the results"
   ]
  },
  {
   "cell_type": "code",
   "execution_count": 59,
   "metadata": {},
   "outputs": [
    {
     "name": "stdout",
     "output_type": "stream",
     "text": [
      "576/576 [==============================] - 0s 24us/step\n",
      "\n",
      "acc: 79.34%\n",
      "192/192 [==============================] - 0s 35us/step\n",
      "\n",
      "acc: 75.52%\n"
     ]
    }
   ],
   "source": [
    "# evaluate the model : train\n",
    "scores = model.evaluate(trainX, trainY)\n",
    "print(\"\\n%s: %.2f%%\" % (model.metrics_names[1], scores[1]*100))\n",
    "\n",
    "\n",
    "# evaluate the model : test\n",
    "scores = model.evaluate(testX, testY)\n",
    "print(\"\\n%s: %.2f%%\" % (model.metrics_names[1], scores[1]*100))"
   ]
  },
  {
   "cell_type": "code",
   "execution_count": 60,
   "metadata": {},
   "outputs": [
    {
     "data": {
      "image/png": "[encoded data removed]",
      "text/plain": [
       "<matplotlib.figure.Figure at 0x123fe8780>"
      ]
     },
     "metadata": {},
     "output_type": "display_data"
    }
   ],
   "source": [
    "# Plot training & validation accuracy values\n",
    "plt.plot(H.history['acc'])\n",
    "plt.plot(H.history['val_acc'])\n",
    "plt.title('Model accuracy')\n",
    "plt.ylabel('Accuracy')\n",
    "plt.xlabel('Epoch')\n",
    "plt.legend(['Train', 'Test'], loc='upper left')\n",
    "plt.show()"
   ]
  },
  {
   "cell_type": "code",
   "execution_count": 61,
   "metadata": {},
   "outputs": [
    {
     "data": {
      "image/png": "[encoded data removed]",
      "text/plain": [
       "<matplotlib.figure.Figure at 0x123fe8748>"
      ]
     },
     "metadata": {},
     "output_type": "display_data"
    }
   ],
   "source": [
    "# Plot training & validation loss values\n",
    "plt.plot(H.history['loss'])\n",
    "plt.plot(H.history['val_loss'])\n",
    "plt.title('Model loss')\n",
    "plt.ylabel('Loss')\n",
    "plt.xlabel('Epoch')\n",
    "plt.legend(['Train', 'Test'], loc='upper left')\n",
    "plt.show()"
   ]
  },
  {
   "cell_type": "markdown",
   "metadata": {},
   "source": [
    "# Prediction"
   ]
  },
  {
   "cell_type": "code",
   "execution_count": 43,
   "metadata": {},
   "outputs": [
    {
     "name": "stdout",
     "output_type": "stream",
     "text": [
      "1.0\n"
     ]
    }
   ],
   "source": [
    "predictions = model.predict(X)\n",
    "# round predictions\n",
    "rounded = [round(x[0]) for x in predictions]\n",
    "print(rounded[1])"
   ]
  },
  {
   "cell_type": "code",
   "execution_count": null,
   "metadata": {},
   "outputs": [],
   "source": []
  },
  {
   "cell_type": "code",
   "execution_count": null,
   "metadata": {},
   "outputs": [],
   "source": []
  },
  {
   "cell_type": "code",
   "execution_count": null,
   "metadata": {},
   "outputs": [],
   "source": []
  },
  {
   "cell_type": "code",
   "execution_count": null,
   "metadata": {},
   "outputs": [],
   "source": []
  },
  {
   "cell_type": "code",
   "execution_count": null,
   "metadata": {},
   "outputs": [],
   "source": []
  },
  {
   "cell_type": "code",
   "execution_count": null,
   "metadata": {},
   "outputs": [],
   "source": []
  },
  {
   "cell_type": "code",
   "execution_count": null,
   "metadata": {},
   "outputs": [],
   "source": []
  },
  {
   "cell_type": "code",
   "execution_count": null,
   "metadata": {},
   "outputs": [],
   "source": []
  }
 ],
 "metadata": {
  "kernelspec": {
   "display_name": "Python 3",
   "language": "python",
   "name": "python3"
  },
  "language_info": {
   "codemirror_mode": {
    "name": "ipython",
    "version": 3
   },
   "file_extension": ".py",
   "mimetype": "text/x-python",
   "name": "python",
   "nbconvert_exporter": "python",
   "pygments_lexer": "ipython3",
   "version": "3.6.4"
  },
  "toc": {
   "base_numbering": 1,
   "nav_menu": {},
   "number_sections": true,
   "sideBar": true,
   "skip_h1_title": false,
   "title_cell": "Table of Contents",
   "title_sidebar": "Contents",
   "toc_cell": false,
   "toc_position": {},
   "toc_section_display": true,
   "toc_window_display": false
  },
  "varInspector": {
   "cols": {
    "lenName": 16,
    "lenType": 16,
    "lenVar": 40
   },
   "kernels_config": {
    "python": {
     "delete_cmd_postfix": "",
     "delete_cmd_prefix": "del ",
     "library": "var_list.py",
     "varRefreshCmd": "print(var_dic_list())"
    },
    "r": {
     "delete_cmd_postfix": ") ",
     "delete_cmd_prefix": "rm(",
     "library": "var_list.r",
     "varRefreshCmd": "cat(var_dic_list()) "
    }
   },
   "types_to_exclude": [
    "module",
    "function",
    "builtin_function_or_method",
    "instance",
    "_Feature"
   ],
   "window_display": false
  }
 },
 "nbformat": 4,
 "nbformat_minor": 2
}
