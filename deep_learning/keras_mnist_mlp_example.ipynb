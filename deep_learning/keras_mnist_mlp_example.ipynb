{
 "cells": [
  {
   "cell_type": "code",
   "execution_count": 11,
   "metadata": {},
   "outputs": [],
   "source": [
    "import keras\n",
    "from keras.datasets import mnist\n",
    "from keras.models import Sequential\n",
    "from keras.layers import Dense, Dropout\n",
    "from keras.optimizers import RMSprop\n",
    "\n",
    "import matplotlib.pyplot as plt"
   ]
  },
  {
   "cell_type": "code",
   "execution_count": 2,
   "metadata": {},
   "outputs": [],
   "source": [
    "batch_size = 128\n",
    "num_classes = 10\n",
    "epochs = 20"
   ]
  },
  {
   "cell_type": "code",
   "execution_count": 3,
   "metadata": {},
   "outputs": [],
   "source": [
    "# the data, split between train and test sets\n",
    "(x_train, y_train), (x_test, y_test) = mnist.load_data()"
   ]
  },
  {
   "cell_type": "code",
   "execution_count": 4,
   "metadata": {},
   "outputs": [
    {
     "name": "stdout",
     "output_type": "stream",
     "text": [
      "60000 train samples\n",
      "10000 test samples\n"
     ]
    }
   ],
   "source": [
    "x_train = x_train.reshape(60000, 784)\n",
    "x_test = x_test.reshape(10000, 784)\n",
    "x_train = x_train.astype('float32')\n",
    "x_test = x_test.astype('float32')\n",
    "x_train /= 255\n",
    "x_test /= 255\n",
    "print(x_train.shape[0], 'train samples')\n",
    "print(x_test.shape[0], 'test samples')\n",
    "\n",
    "# convert class vectors to binary class matrices\n",
    "y_train = keras.utils.to_categorical(y_train, num_classes)\n",
    "y_test = keras.utils.to_categorical(y_test, num_classes)"
   ]
  },
  {
   "cell_type": "code",
   "execution_count": 5,
   "metadata": {},
   "outputs": [],
   "source": [
    "model = Sequential()\n",
    "model.add(Dense(512, activation='relu', input_shape=(784,)))\n",
    "model.add(Dropout(0.2))\n",
    "model.add(Dense(512, activation='relu'))\n",
    "model.add(Dropout(0.2))\n",
    "model.add(Dense(num_classes, activation='softmax'))"
   ]
  },
  {
   "cell_type": "code",
   "execution_count": 6,
   "metadata": {},
   "outputs": [
    {
     "name": "stdout",
     "output_type": "stream",
     "text": [
      "_________________________________________________________________\n",
      "Layer (type)                 Output Shape              Param #   \n",
      "=================================================================\n",
      "dense_1 (Dense)              (None, 512)               401920    \n",
      "_________________________________________________________________\n",
      "dropout_1 (Dropout)          (None, 512)               0         \n",
      "_________________________________________________________________\n",
      "dense_2 (Dense)              (None, 512)               262656    \n",
      "_________________________________________________________________\n",
      "dropout_2 (Dropout)          (None, 512)               0         \n",
      "_________________________________________________________________\n",
      "dense_3 (Dense)              (None, 10)                5130      \n",
      "=================================================================\n",
      "Total params: 669,706\n",
      "Trainable params: 669,706\n",
      "Non-trainable params: 0\n",
      "_________________________________________________________________\n"
     ]
    }
   ],
   "source": [
    "model.summary()"
   ]
  },
  {
   "cell_type": "code",
   "execution_count": 7,
   "metadata": {},
   "outputs": [],
   "source": [
    "model.compile(loss='categorical_crossentropy',\n",
    "              optimizer=RMSprop(),\n",
    "              metrics=['accuracy'])"
   ]
  },
  {
   "cell_type": "code",
   "execution_count": 8,
   "metadata": {},
   "outputs": [
    {
     "name": "stdout",
     "output_type": "stream",
     "text": [
      "Train on 60000 samples, validate on 10000 samples\n",
      "Epoch 1/20\n",
      "60000/60000 [==============================] - 4s 72us/step - loss: 0.2440 - acc: 0.9249 - val_loss: 0.1025 - val_acc: 0.9668\n",
      "Epoch 2/20\n",
      "60000/60000 [==============================] - 4s 67us/step - loss: 0.1039 - acc: 0.9691 - val_loss: 0.0871 - val_acc: 0.9747\n",
      "Epoch 3/20\n",
      "60000/60000 [==============================] - 4s 72us/step - loss: 0.0770 - acc: 0.9772 - val_loss: 0.0830 - val_acc: 0.9774\n",
      "Epoch 4/20\n",
      "60000/60000 [==============================] - 4s 73us/step - loss: 0.0598 - acc: 0.9818 - val_loss: 0.0871 - val_acc: 0.9746\n",
      "Epoch 5/20\n",
      "60000/60000 [==============================] - 4s 66us/step - loss: 0.0505 - acc: 0.9850 - val_loss: 0.0828 - val_acc: 0.9802\n",
      "Epoch 6/20\n",
      "60000/60000 [==============================] - 4s 67us/step - loss: 0.0468 - acc: 0.9865 - val_loss: 0.0741 - val_acc: 0.9815\n",
      "Epoch 7/20\n",
      "60000/60000 [==============================] - 4s 71us/step - loss: 0.0384 - acc: 0.9891 - val_loss: 0.0799 - val_acc: 0.9822\n",
      "Epoch 8/20\n",
      "60000/60000 [==============================] - 4s 68us/step - loss: 0.0346 - acc: 0.9900 - val_loss: 0.0783 - val_acc: 0.9812\n",
      "Epoch 9/20\n",
      "60000/60000 [==============================] - 4s 66us/step - loss: 0.0316 - acc: 0.9909 - val_loss: 0.0854 - val_acc: 0.9816\n",
      "Epoch 10/20\n",
      "60000/60000 [==============================] - 5s 80us/step - loss: 0.0303 - acc: 0.9916 - val_loss: 0.0887 - val_acc: 0.9823\n",
      "Epoch 11/20\n",
      "60000/60000 [==============================] - 4s 73us/step - loss: 0.0253 - acc: 0.9927 - val_loss: 0.0996 - val_acc: 0.9812\n",
      "Epoch 12/20\n",
      "60000/60000 [==============================] - 4s 69us/step - loss: 0.0261 - acc: 0.9929 - val_loss: 0.0825 - val_acc: 0.9831\n",
      "Epoch 13/20\n",
      "60000/60000 [==============================] - 4s 74us/step - loss: 0.0250 - acc: 0.9933 - val_loss: 0.0992 - val_acc: 0.9817\n",
      "Epoch 14/20\n",
      "60000/60000 [==============================] - 4s 75us/step - loss: 0.0221 - acc: 0.9939 - val_loss: 0.0978 - val_acc: 0.9826\n",
      "Epoch 15/20\n",
      "60000/60000 [==============================] - 4s 68us/step - loss: 0.0211 - acc: 0.9939 - val_loss: 0.1007 - val_acc: 0.9827\n",
      "Epoch 16/20\n",
      "60000/60000 [==============================] - 4s 74us/step - loss: 0.0214 - acc: 0.9942 - val_loss: 0.1017 - val_acc: 0.9822\n",
      "Epoch 17/20\n",
      "60000/60000 [==============================] - 4s 63us/step - loss: 0.0198 - acc: 0.9950 - val_loss: 0.1016 - val_acc: 0.9839\n",
      "Epoch 18/20\n",
      "60000/60000 [==============================] - 4s 66us/step - loss: 0.0170 - acc: 0.9957 - val_loss: 0.1102 - val_acc: 0.9844\n",
      "Epoch 19/20\n",
      "60000/60000 [==============================] - 4s 67us/step - loss: 0.0180 - acc: 0.9953 - val_loss: 0.1175 - val_acc: 0.9827\n",
      "Epoch 20/20\n",
      "60000/60000 [==============================] - 4s 65us/step - loss: 0.0173 - acc: 0.9956 - val_loss: 0.1020 - val_acc: 0.9847\n"
     ]
    }
   ],
   "source": [
    "history = model.fit(x_train, y_train,\n",
    "                    batch_size=batch_size,\n",
    "                    epochs=epochs,\n",
    "                    verbose=1,\n",
    "                    validation_data=(x_test, y_test))"
   ]
  },
  {
   "cell_type": "code",
   "execution_count": 9,
   "metadata": {},
   "outputs": [
    {
     "name": "stdout",
     "output_type": "stream",
     "text": [
      "Test loss: 0.10202159784401092\n",
      "Test accuracy: 0.9847\n"
     ]
    }
   ],
   "source": [
    "score = model.evaluate(x_test, y_test, verbose=0)\n",
    "print('Test loss:', score[0])\n",
    "print('Test accuracy:', score[1])"
   ]
  },
  {
   "cell_type": "code",
   "execution_count": 14,
   "metadata": {},
   "outputs": [
    {
     "data": {
      "image/png": "[encoded data removed]",
      "text/plain": [
       "<matplotlib.figure.Figure at 0x1238cbe80>"
      ]
     },
     "metadata": {},
     "output_type": "display_data"
    }
   ],
   "source": [
    "# Plot training & validation accuracy values\n",
    "plt.plot(history.history['loss'])\n",
    "plt.title('Loss')\n",
    "plt.ylabel('Accuracy')\n",
    "plt.xlabel('Epoch')\n",
    "plt.legend(['Train', 'Test'], loc='upper left')\n",
    "plt.show()"
   ]
  },
  {
   "cell_type": "code",
   "execution_count": null,
   "metadata": {},
   "outputs": [],
   "source": []
  }
 ],
 "metadata": {
  "kernelspec": {
   "display_name": "Python 3",
   "language": "python",
   "name": "python3"
  },
  "language_info": {
   "codemirror_mode": {
    "name": "ipython",
    "version": 3
   },
   "file_extension": ".py",
   "mimetype": "text/x-python",
   "name": "python",
   "nbconvert_exporter": "python",
   "pygments_lexer": "ipython3",
   "version": "3.6.4"
  },
  "toc": {
   "base_numbering": 1,
   "nav_menu": {},
   "number_sections": true,
   "sideBar": true,
   "skip_h1_title": false,
   "title_cell": "Table of Contents",
   "title_sidebar": "Contents",
   "toc_cell": false,
   "toc_position": {},
   "toc_section_display": true,
   "toc_window_display": false
  },
  "varInspector": {
   "cols": {
    "lenName": 16,
    "lenType": 16,
    "lenVar": 40
   },
   "kernels_config": {
    "python": {
     "delete_cmd_postfix": "",
     "delete_cmd_prefix": "del ",
     "library": "var_list.py",
     "varRefreshCmd": "print(var_dic_list())"
    },
    "r": {
     "delete_cmd_postfix": ") ",
     "delete_cmd_prefix": "rm(",
     "library": "var_list.r",
     "varRefreshCmd": "cat(var_dic_list()) "
    }
   },
   "types_to_exclude": [
    "module",
    "function",
    "builtin_function_or_method",
    "instance",
    "_Feature"
   ],
   "window_display": false
  }
 },
 "nbformat": 4,
 "nbformat_minor": 2
}
